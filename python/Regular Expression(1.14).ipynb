{
 "cells": [
  {
   "cell_type": "markdown",
   "id": "8bf302d7",
   "metadata": {},
   "source": [
    "### 정규표현식\n",
    "* 특정 문자열의 패턴을 표현하는 식\n",
    "* 문자열 처리함수를 사용하는 것보다 복잡한 표현을 간결하게 표현"
   ]
  },
  {
   "cell_type": "code",
   "execution_count": 1,
   "id": "391d80b2",
   "metadata": {},
   "outputs": [],
   "source": [
    "import re"
   ]
  },
  {
   "cell_type": "markdown",
   "id": "21b89d2b",
   "metadata": {},
   "source": [
    "1. re.compile('정규표현식')\n",
    "* 정규표현식 패턴 객체 생성"
   ]
  },
  {
   "cell_type": "code",
   "execution_count": 4,
   "id": "014ddeb2",
   "metadata": {},
   "outputs": [],
   "source": [
    "phonenum = re.compile(r'\\d\\d\\d-\\d\\d\\d\\d-\\d\\d\\d\\d') # \\d - 숫자, 정규표현식 객체 생성\n",
    "mo = phonenum.search('My number is 010-1297-5252') # search 메서드 - 일치하는 패턴 리턴"
   ]
  },
  {
   "cell_type": "code",
   "execution_count": 5,
   "id": "a5e33cd1",
   "metadata": {},
   "outputs": [
    {
     "data": {
      "text/plain": [
       "'010-1297-5252'"
      ]
     },
     "execution_count": 5,
     "metadata": {},
     "output_type": "execute_result"
    }
   ],
   "source": [
    "mo.group()  # group 메서드 - 일치하는 패턴 리턴"
   ]
  },
  {
   "cell_type": "markdown",
   "id": "1c2aee4b",
   "metadata": {},
   "source": [
    "2. search() 메서드\n",
    "* 일치하는 패턴 중에 첫번째 패턴을 리턴"
   ]
  },
  {
   "cell_type": "code",
   "execution_count": 11,
   "id": "42a3bdb0",
   "metadata": {},
   "outputs": [
    {
     "data": {
      "text/plain": [
       "'010-1297-5252'"
      ]
     },
     "execution_count": 11,
     "metadata": {},
     "output_type": "execute_result"
    }
   ],
   "source": [
    "# () = 패턴의 그룹을 생성\n",
    "phonenum = re.compile(r'(\\d\\d\\d)-(\\d\\d\\d\\d-\\d\\d\\d\\d)')\n",
    "mo1 = phonenum.search('My number is 010-1297-5252. Your number is 010-8748-3881')\n",
    "mo1.group()"
   ]
  },
  {
   "cell_type": "code",
   "execution_count": 12,
   "id": "19cc2e82",
   "metadata": {},
   "outputs": [
    {
     "data": {
      "text/plain": [
       "'010'"
      ]
     },
     "execution_count": 12,
     "metadata": {},
     "output_type": "execute_result"
    }
   ],
   "source": [
    "mo1.group().split('-')[0]\n",
    "mo1.group(1)"
   ]
  },
  {
   "cell_type": "code",
   "execution_count": 13,
   "id": "bc794f35",
   "metadata": {},
   "outputs": [
    {
     "data": {
      "text/plain": [
       "'1297-5252'"
      ]
     },
     "execution_count": 13,
     "metadata": {},
     "output_type": "execute_result"
    }
   ],
   "source": [
    "mo1.group(2)"
   ]
  },
  {
   "cell_type": "code",
   "execution_count": null,
   "id": "337cac7c",
   "metadata": {},
   "outputs": [],
   "source": []
  },
  {
   "cell_type": "code",
   "execution_count": 14,
   "id": "c531ed69",
   "metadata": {},
   "outputs": [],
   "source": [
    "regex = re.compile(r'Batman|Tina Fey')  # or : '|'"
   ]
  },
  {
   "cell_type": "code",
   "execution_count": 16,
   "id": "7136fcff",
   "metadata": {},
   "outputs": [
    {
     "data": {
      "text/plain": [
       "'Batman'"
      ]
     },
     "execution_count": 16,
     "metadata": {},
     "output_type": "execute_result"
    }
   ],
   "source": [
    "mo2 = regex.search('Batman and Tina Fey')\n",
    "mo2.group()"
   ]
  },
  {
   "cell_type": "code",
   "execution_count": null,
   "id": "e2ff60fa",
   "metadata": {},
   "outputs": [],
   "source": []
  },
  {
   "cell_type": "code",
   "execution_count": 30,
   "id": "d2363ef5",
   "metadata": {},
   "outputs": [
    {
     "data": {
      "text/plain": [
       "'Batmobile'"
      ]
     },
     "execution_count": 30,
     "metadata": {},
     "output_type": "execute_result"
    }
   ],
   "source": [
    "regex = re.compile(r'Bat(man|mobile|copter|bat)')\n",
    "mo3 = regex.search('Batmobile lost a wheel!')\n",
    "mo3.group()"
   ]
  },
  {
   "cell_type": "code",
   "execution_count": 31,
   "id": "3a2b95c3",
   "metadata": {},
   "outputs": [
    {
     "data": {
      "text/plain": [
       "'Batman'"
      ]
     },
     "execution_count": 31,
     "metadata": {},
     "output_type": "execute_result"
    }
   ],
   "source": [
    "regex = re.compile(r'Bat(wo)?man')  # ? : 앞의 패턴이 0번 또는 1번 반복되는 패턴\n",
    "mo4 = regex.search('The adventures of Batman')\n",
    "mo4.group()"
   ]
  },
  {
   "cell_type": "code",
   "execution_count": 32,
   "id": "7a557f74",
   "metadata": {},
   "outputs": [
    {
     "data": {
      "text/plain": [
       "'Batwoman'"
      ]
     },
     "execution_count": 32,
     "metadata": {},
     "output_type": "execute_result"
    }
   ],
   "source": [
    "regex = re.compile(r'Bat(wo)?man')  # ? : 앞의 패턴이 0번 또는 1번 반복되는 패턴\n",
    "mo4 = regex.search('The adventures of Batwoman')\n",
    "mo4.group()"
   ]
  },
  {
   "cell_type": "code",
   "execution_count": null,
   "id": "e26ad407",
   "metadata": {},
   "outputs": [],
   "source": []
  },
  {
   "cell_type": "code",
   "execution_count": 33,
   "id": "1dd06386",
   "metadata": {},
   "outputs": [
    {
     "data": {
      "text/plain": [
       "'Batwoman'"
      ]
     },
     "execution_count": 33,
     "metadata": {},
     "output_type": "execute_result"
    }
   ],
   "source": [
    "regex = re.compile(r'Bat(wo)+man')  # + : 앞의 패턴이 1번 이상 등장하는 패턴\n",
    "mo4 = regex.search('The adventures of Batwoman')\n",
    "mo4.group()"
   ]
  },
  {
   "cell_type": "code",
   "execution_count": 34,
   "id": "f18984ba",
   "metadata": {},
   "outputs": [
    {
     "data": {
      "text/plain": [
       "'Batwowowoman'"
      ]
     },
     "execution_count": 34,
     "metadata": {},
     "output_type": "execute_result"
    }
   ],
   "source": [
    "regex = re.compile(r'Bat(wo)+man')  # + : 앞의 패턴이 1번 이상 등장하는 패턴\n",
    "mo4 = regex.search('The adventures of Batwowowoman')\n",
    "mo4.group()"
   ]
  },
  {
   "cell_type": "code",
   "execution_count": null,
   "id": "e786ba4b",
   "metadata": {},
   "outputs": [],
   "source": []
  },
  {
   "cell_type": "code",
   "execution_count": 35,
   "id": "af322b35",
   "metadata": {},
   "outputs": [
    {
     "data": {
      "text/plain": [
       "'Batman'"
      ]
     },
     "execution_count": 35,
     "metadata": {},
     "output_type": "execute_result"
    }
   ],
   "source": [
    "regex = re.compile(r'Bat(wo)*man')  # * : 앞의 패턴이 0번 이상 등장하는 패턴\n",
    "mo4 = regex.search('The adventures of Batman')\n",
    "mo4.group()"
   ]
  },
  {
   "cell_type": "code",
   "execution_count": 36,
   "id": "087fe9de",
   "metadata": {},
   "outputs": [
    {
     "data": {
      "text/plain": [
       "'Batwoman'"
      ]
     },
     "execution_count": 36,
     "metadata": {},
     "output_type": "execute_result"
    }
   ],
   "source": [
    "regex = re.compile(r'Bat(wo)*man')  # * : 앞의 패턴이 0번 이상 등장하는 패턴\n",
    "mo4 = regex.search('The adventures of Batwoman')\n",
    "mo4.group()"
   ]
  },
  {
   "cell_type": "code",
   "execution_count": 37,
   "id": "3b9e1911",
   "metadata": {},
   "outputs": [
    {
     "data": {
      "text/plain": [
       "'Batwowowowowowowoman'"
      ]
     },
     "execution_count": 37,
     "metadata": {},
     "output_type": "execute_result"
    }
   ],
   "source": [
    "regex = re.compile(r'Bat(wo)*man')  # * : 앞의 패턴이 0번 이상 등장하는 패턴\n",
    "mo4 = regex.search('The adventures of Batwowowowowowowoman')\n",
    "mo4.group()"
   ]
  },
  {
   "cell_type": "code",
   "execution_count": null,
   "id": "3072dff8",
   "metadata": {},
   "outputs": [],
   "source": []
  },
  {
   "cell_type": "code",
   "execution_count": 38,
   "id": "8363c79f",
   "metadata": {
    "collapsed": true
   },
   "outputs": [
    {
     "ename": "AttributeError",
     "evalue": "'NoneType' object has no attribute 'group'",
     "output_type": "error",
     "traceback": [
      "\u001b[1;31m---------------------------------------------------------------------------\u001b[0m",
      "\u001b[1;31mAttributeError\u001b[0m                            Traceback (most recent call last)",
      "\u001b[1;32m~\\AppData\\Local\\Temp/ipykernel_14392/2827761171.py\u001b[0m in \u001b[0;36m<module>\u001b[1;34m\u001b[0m\n\u001b[0;32m      1\u001b[0m \u001b[0mregex\u001b[0m \u001b[1;33m=\u001b[0m \u001b[0mre\u001b[0m\u001b[1;33m.\u001b[0m\u001b[0mcompile\u001b[0m\u001b[1;33m(\u001b[0m\u001b[1;34mr'Bat(wo){2}man'\u001b[0m\u001b[1;33m)\u001b[0m  \u001b[1;31m# {n} : 앞의 패턴이 n번 등장하는 패턴\u001b[0m\u001b[1;33m\u001b[0m\u001b[1;33m\u001b[0m\u001b[0m\n\u001b[0;32m      2\u001b[0m \u001b[0mmo4\u001b[0m \u001b[1;33m=\u001b[0m \u001b[0mregex\u001b[0m\u001b[1;33m.\u001b[0m\u001b[0msearch\u001b[0m\u001b[1;33m(\u001b[0m\u001b[1;34m'The adventures of Batman'\u001b[0m\u001b[1;33m)\u001b[0m\u001b[1;33m\u001b[0m\u001b[1;33m\u001b[0m\u001b[0m\n\u001b[1;32m----> 3\u001b[1;33m \u001b[0mmo4\u001b[0m\u001b[1;33m.\u001b[0m\u001b[0mgroup\u001b[0m\u001b[1;33m(\u001b[0m\u001b[1;33m)\u001b[0m\u001b[1;33m\u001b[0m\u001b[1;33m\u001b[0m\u001b[0m\n\u001b[0m",
      "\u001b[1;31mAttributeError\u001b[0m: 'NoneType' object has no attribute 'group'"
     ]
    }
   ],
   "source": [
    "regex = re.compile(r'Bat(wo){2}man')  # {n} : 앞의 패턴이 n번 등장하는 패턴\n",
    "mo4 = regex.search('The adventures of Batman')\n",
    "mo4.group()"
   ]
  },
  {
   "cell_type": "code",
   "execution_count": 40,
   "id": "5cc599f2",
   "metadata": {},
   "outputs": [
    {
     "data": {
      "text/plain": [
       "'Batwowoman'"
      ]
     },
     "execution_count": 40,
     "metadata": {},
     "output_type": "execute_result"
    }
   ],
   "source": [
    "regex = re.compile(r'Bat(wo){2}man')  # {n} : 앞의 패턴이 n번 등장하는 패턴\n",
    "mo4 = regex.search('The adventures of Batwowoman')\n",
    "mo4.group()"
   ]
  },
  {
   "cell_type": "code",
   "execution_count": 42,
   "id": "2a5a352f",
   "metadata": {},
   "outputs": [
    {
     "data": {
      "text/plain": [
       "'Batwowowowoman'"
      ]
     },
     "execution_count": 42,
     "metadata": {},
     "output_type": "execute_result"
    }
   ],
   "source": [
    "regex = re.compile(r'Bat(wo){2,4}man')  # {n,m} : 앞의 패턴이 n~m번 등장하는 패턴\n",
    "mo4 = regex.search('The adventures of Batwowowowoman')\n",
    "mo4.group()"
   ]
  },
  {
   "cell_type": "code",
   "execution_count": null,
   "id": "cb40c72c",
   "metadata": {},
   "outputs": [],
   "source": []
  },
  {
   "cell_type": "markdown",
   "id": "0d59ea67",
   "metadata": {},
   "source": [
    "3. findall() 메서드\n",
    "* 일치하는 모든 패턴을 리스트 형식으로 리턴"
   ]
  },
  {
   "cell_type": "code",
   "execution_count": 43,
   "id": "713b1165",
   "metadata": {
    "scrolled": true
   },
   "outputs": [
    {
     "data": {
      "text/plain": [
       "'415-8388-3729'"
      ]
     },
     "execution_count": 43,
     "metadata": {},
     "output_type": "execute_result"
    }
   ],
   "source": [
    "# phonenum = re.compile(r'\\d\\d\\d-\\d\\d\\d\\d-\\d\\d\\d\\d')\n",
    "# mo5 = phonenum.search('Call : 415-8388-3729, work : 212-4859-3394')\n",
    "# mo5.group()"
   ]
  },
  {
   "cell_type": "code",
   "execution_count": 44,
   "id": "079a23d1",
   "metadata": {
    "scrolled": true
   },
   "outputs": [
    {
     "data": {
      "text/plain": [
       "['415-8388-3729', '212-4859-3394']"
      ]
     },
     "execution_count": 44,
     "metadata": {},
     "output_type": "execute_result"
    }
   ],
   "source": [
    "phonenum = re.compile(r'\\d\\d\\d-\\d\\d\\d\\d-\\d\\d\\d\\d')\n",
    "phonenum.findall('Call : 415-8388-3729, work : 212-4859-3394')"
   ]
  },
  {
   "cell_type": "code",
   "execution_count": null,
   "id": "6a5484c0",
   "metadata": {},
   "outputs": [],
   "source": []
  },
  {
   "cell_type": "code",
   "execution_count": 47,
   "id": "05e43f7b",
   "metadata": {},
   "outputs": [
    {
     "data": {
      "text/plain": [
       "['12 drummers', '11 pipers', '10 lords', '9 ladies', '8 maids', '6 eggs']"
      ]
     },
     "execution_count": 47,
     "metadata": {},
     "output_type": "execute_result"
    }
   ],
   "source": [
    "regex = re.compile(r'\\d+\\s\\w+') # \\s : 스페이스,탭,줄바꿈  /  \\w : 문자,숫자,_\n",
    "regex.findall('12 drummers, 11 pipers, 10 lords, 9 ladies, 8 maids, 6 eggs')"
   ]
  },
  {
   "cell_type": "code",
   "execution_count": null,
   "id": "5281298b",
   "metadata": {},
   "outputs": [],
   "source": []
  },
  {
   "cell_type": "markdown",
   "id": "9a14bba6",
   "metadata": {},
   "source": [
    "4. 사용자 정의 정규표현식 => []\n",
    "* 사용자가 임의로 정의하는 패턴\n",
    "* [aeiouAEIOU] => 영문자 모음\n",
    "* [a-zA-Z] => 영문자 소문자 대문자\n",
    "* [0-9] => 모든 숫자\n",
    "* '-' => 범위지정\n",
    "* ^ => 부정(not)"
   ]
  },
  {
   "cell_type": "code",
   "execution_count": 50,
   "id": "d9faba7f",
   "metadata": {},
   "outputs": [
    {
     "data": {
      "text/plain": [
       "['o', 'o', 'a', 'e', 'a', 'a', 'o', 'o', 'a', 'O', 'O']"
      ]
     },
     "execution_count": 50,
     "metadata": {},
     "output_type": "execute_result"
    }
   ],
   "source": [
    "regex = re.compile(r'[aeiouAEIOU]')\n",
    "regex.findall('Robocab eats baby food BaBy FOOD')"
   ]
  },
  {
   "cell_type": "code",
   "execution_count": 52,
   "id": "b61488f1",
   "metadata": {},
   "outputs": [
    {
     "data": {
      "text/plain": [
       "['f', 'd', ' ', 'B', 'B', 'y', ' ', 'F', 'D']"
      ]
     },
     "execution_count": 52,
     "metadata": {},
     "output_type": "execute_result"
    }
   ],
   "source": [
    "regex = re.compile(r'[^aeiouAEIOU]')\n",
    "regex.findall('food BaBy FOOD')"
   ]
  },
  {
   "cell_type": "code",
   "execution_count": null,
   "id": "62aacc7f",
   "metadata": {},
   "outputs": [],
   "source": []
  },
  {
   "cell_type": "markdown",
   "id": "45968394",
   "metadata": {},
   "source": [
    "5.\n",
    "* ^ - 문자열의 시작 부분과 일치\n",
    "* $ - 문자열의 끝 부분과 일치"
   ]
  },
  {
   "cell_type": "code",
   "execution_count": 54,
   "id": "5772f83e",
   "metadata": {},
   "outputs": [
    {
     "data": {
      "text/plain": [
       "['Hello']"
      ]
     },
     "execution_count": 54,
     "metadata": {},
     "output_type": "execute_result"
    }
   ],
   "source": [
    "regex = re.compile(r'^Hello')\n",
    "regex.findall('Hello world')"
   ]
  },
  {
   "cell_type": "code",
   "execution_count": 55,
   "id": "ed40ea84",
   "metadata": {},
   "outputs": [
    {
     "data": {
      "text/plain": [
       "[]"
      ]
     },
     "execution_count": 55,
     "metadata": {},
     "output_type": "execute_result"
    }
   ],
   "source": [
    "regex = re.compile(r'^Hello')\n",
    "regex.findall('python Hello')"
   ]
  },
  {
   "cell_type": "code",
   "execution_count": 57,
   "id": "c2525f86",
   "metadata": {},
   "outputs": [
    {
     "data": {
      "text/plain": [
       "['2']"
      ]
     },
     "execution_count": 57,
     "metadata": {},
     "output_type": "execute_result"
    }
   ],
   "source": [
    "regex = re.compile(r'\\d$')\n",
    "regex.findall('Your number 5 is 42')"
   ]
  },
  {
   "cell_type": "code",
   "execution_count": 59,
   "id": "0f52d83e",
   "metadata": {},
   "outputs": [
    {
     "data": {
      "text/plain": [
       "['42']"
      ]
     },
     "execution_count": 59,
     "metadata": {},
     "output_type": "execute_result"
    }
   ],
   "source": [
    "regex = re.compile(r'\\d+$')\n",
    "regex.findall('Your number 56 is 42')"
   ]
  },
  {
   "cell_type": "code",
   "execution_count": null,
   "id": "adb87d06",
   "metadata": {},
   "outputs": [],
   "source": []
  },
  {
   "cell_type": "markdown",
   "id": "0d7d4496",
   "metadata": {},
   "source": [
    "6. sub()\n",
    "* 매칭이 되는 문자열을 다른 값으로 대체"
   ]
  },
  {
   "cell_type": "code",
   "execution_count": 60,
   "id": "673ef946",
   "metadata": {},
   "outputs": [
    {
     "data": {
      "text/plain": [
       "'Censored gave the secret documents of Censored'"
      ]
     },
     "execution_count": 60,
     "metadata": {},
     "output_type": "execute_result"
    }
   ],
   "source": [
    "regex = re.compile(r'Agent \\w+')\n",
    "regex.sub('Censored', 'Agent Alice gave the secret documents of Agent Bob')"
   ]
  },
  {
   "cell_type": "code",
   "execution_count": 62,
   "id": "a319dad5",
   "metadata": {},
   "outputs": [
    {
     "data": {
      "text/plain": [
       "'Agent Al**** gave the secret documents of Agent Bo****'"
      ]
     },
     "execution_count": 62,
     "metadata": {},
     "output_type": "execute_result"
    }
   ],
   "source": [
    "regex = re.compile(r'Agent (\\w{2})\\w*')\n",
    "regex.sub(r'Agent \\1****', 'Agent Alice gave the secret documents of Agent Bob')"
   ]
  },
  {
   "cell_type": "code",
   "execution_count": null,
   "id": "b6d6e6bd",
   "metadata": {},
   "outputs": [],
   "source": []
  },
  {
   "cell_type": "markdown",
   "id": "a9ac946d",
   "metadata": {},
   "source": [
    "# 반복\n",
    "'+' : 한번 이상 등장하는 패턴   \n",
    "'*' : 0번 이상 등장하는 패턴   \n",
    "'?' : 0번 또는 1번 등장하는 패턴   \n",
    "'{}' : 특정한 반복 횟수를 지정   \n",
    "   \n",
    "# 사용자 정의 표현식\n",
    "[]   \n",
    "[aeiou] : 소문자 모음   \n",
    "[^xyz] : x,y,z를 제외한 패턴   \n",
    "'-' : 범위를 지정   \n",
    "[a-zA-Z0-9] : 영 대소문자 및 숫자   \n",
    "'^' : not   \n",
    "   \n",
    "# 주요 메서드\n",
    "search : 패턴과 일치하는 첫 번째 문자열   \n",
    "findall : 패턴과 일치하는 모든 문자열 리스트로    \n",
    "sub : 패턴과 일치하는 문자열을 다른 문자열로 대체   \n",
    "   \n",
    "# 매칭\n",
    "'.' : 줄 바꿈 이외의 모든 어느 하나의 문자와 일치   \n",
    "'^' : 줄의 시작과 일치   \n",
    "'$' : 줄의 끝과 일치   "
   ]
  },
  {
   "cell_type": "code",
   "execution_count": 63,
   "id": "2e72df45",
   "metadata": {},
   "outputs": [],
   "source": [
    "import re"
   ]
  },
  {
   "cell_type": "code",
   "execution_count": 69,
   "id": "1e71ab95",
   "metadata": {},
   "outputs": [
    {
     "data": {
      "text/plain": [
       "['02-3747-2993', '010-8374-4773']"
      ]
     },
     "execution_count": 69,
     "metadata": {},
     "output_type": "execute_result"
    }
   ],
   "source": [
    "# 전화번호를 출력\n",
    "text = '문의사항은 02-3747-2993으로 연락 주세요. 비상시에는 010-8374-4773로 연락주세요'\n",
    "\n",
    "regex = re.compile(r'\\d{2,3}-\\d+-\\d+')\n",
    "regex.findall(text)"
   ]
  },
  {
   "cell_type": "code",
   "execution_count": 70,
   "id": "19f51c84",
   "metadata": {},
   "outputs": [
    {
     "data": {
      "text/plain": [
       "['1', '0', '2', '3', '4', '8']"
      ]
     },
     "execution_count": 70,
     "metadata": {},
     "output_type": "execute_result"
    }
   ],
   "source": [
    "# 숫자만 출력\n",
    "regex = re.compile('[0-9]')\n",
    "regex.findall('문자열 10 중간에 234 숫자가 8개 있습니다.')"
   ]
  },
  {
   "cell_type": "code",
   "execution_count": 72,
   "id": "19e7ee40",
   "metadata": {},
   "outputs": [
    {
     "data": {
      "text/plain": [
       "['10', '234', '8']"
      ]
     },
     "execution_count": 72,
     "metadata": {},
     "output_type": "execute_result"
    }
   ],
   "source": [
    "regex = re.compile('[0-9]+')\n",
    "regex.findall('문자열 10 중간에 234 숫자가 8개 있습니다.')"
   ]
  },
  {
   "cell_type": "code",
   "execution_count": 71,
   "id": "8f5b5a6d",
   "metadata": {},
   "outputs": [
    {
     "data": {
      "text/plain": [
       "['10', '234', '8']"
      ]
     },
     "execution_count": 71,
     "metadata": {},
     "output_type": "execute_result"
    }
   ],
   "source": [
    "regex = re.compile('\\d+')\n",
    "regex.findall('문자열 10 중간에 234 숫자가 8개 있습니다.')"
   ]
  },
  {
   "cell_type": "code",
   "execution_count": 79,
   "id": "a1f1ca0e",
   "metadata": {},
   "outputs": [
    {
     "data": {
      "text/plain": [
       "['bit4883@gmail.com', 'j4jmm@yonsei.ac.kr']"
      ]
     },
     "execution_count": 79,
     "metadata": {},
     "output_type": "execute_result"
    }
   ],
   "source": [
    "# 이메일 찾기\n",
    "text = '저의 이메일은 bit4883@gmail.com입니다. 회사 이메일은 j4jmm@yonsei.ac.kr입니다'\n",
    "regex = re.compile('[a-zA-Z0-9_+.-]+@[a-zA-Z0-9.]+')\n",
    "regex.findall(text)"
   ]
  },
  {
   "cell_type": "code",
   "execution_count": 83,
   "id": "f35463f1",
   "metadata": {},
   "outputs": [
    {
     "data": {
      "text/plain": [
       "['http://www.home.com', 'https://www.firm.com']"
      ]
     },
     "execution_count": 83,
     "metadata": {},
     "output_type": "execute_result"
    }
   ],
   "source": [
    "# url 추출\n",
    "text = '저의 홈페이지는 http://www.home.com입니다. 회사 홈페이지는 https://www.firm.com입니다.'\n",
    "regex = re.compile('http[s]?://w{3}\\.[a-zA-Z0-9]*\\.[a-z]*')   # .은 아무 한글자 / \\.은 '.'한글자\n",
    "regex.findall(text)"
   ]
  },
  {
   "cell_type": "code",
   "execution_count": 87,
   "id": "3e587587",
   "metadata": {},
   "outputs": [
    {
     "data": {
      "text/plain": [
       "['123456.78']"
      ]
     },
     "execution_count": 87,
     "metadata": {},
     "output_type": "execute_result"
    }
   ],
   "source": [
    "# 금액만 추출\n",
    "text = '총 금액은 123456.78원 입니다'\n",
    "re.findall('\\d+\\.*\\d*', text)"
   ]
  },
  {
   "cell_type": "code",
   "execution_count": 89,
   "id": "5766d7a1",
   "metadata": {},
   "outputs": [
    {
     "data": {
      "text/plain": [
       "['2015년 2월 15일', '2018년 09월 30일']"
      ]
     },
     "execution_count": 89,
     "metadata": {},
     "output_type": "execute_result"
    }
   ],
   "source": [
    "# 날짜만 추출\n",
    "text = '계약 시작일 2015년 2월 15일. 계약 종료일 2018년 09월 30일'\n",
    "re.findall('\\d+년 \\d+월 \\d+일', text)"
   ]
  },
  {
   "cell_type": "code",
   "execution_count": 90,
   "id": "aa8eba2b",
   "metadata": {},
   "outputs": [
    {
     "data": {
      "text/plain": [
       "'계약 시작일 **년 **월 **일. 계약 종료일 **년 **월 **일'"
      ]
     },
     "execution_count": 90,
     "metadata": {},
     "output_type": "execute_result"
    }
   ],
   "source": [
    "# 날짜만 변경\n",
    "text = '계약 시작일 2015년 2월 15일. 계약 종료일 2018년 09월 30일'\n",
    "re.sub('((\\d+)년 (\\d+)월 (\\d+)일)', '**년 **월 **일', text)"
   ]
  },
  {
   "cell_type": "code",
   "execution_count": 93,
   "id": "aa4117f9",
   "metadata": {},
   "outputs": [
    {
     "data": {
      "text/plain": [
       "['223.62.180.95', '211.244.131.169', '192.5.90.39']"
      ]
     },
     "execution_count": 93,
     "metadata": {},
     "output_type": "execute_result"
    }
   ],
   "source": [
    "#ip 추출하기\n",
    "log_data = \"\"\"\n",
    "223.62.180.95 - - [07/Mar/2014:00:00:06 +0900] \"GET /trapi/mts/Check.jsp HTTP/1.1\" 200 3293\n",
    "211.244.131.169 - - [07/Mar/2014:00:00:19 +0900] \"GET /trapi/mts/Check.jsp HTTP/1.1\" 200 3293\n",
    "192.5.90.39 - - [07/Mar/2014:00:00:26 +0900] \"GET / HTTP/1.1\" 200 1964\n",
    "\"\"\"\n",
    "re.findall('[0-9.]{7,15}', log_data)  # \\d+\\.\\d+\\.\\d+\\.\\d+"
   ]
  }
 ],
 "metadata": {
  "kernelspec": {
   "display_name": "Python 3 (ipykernel)",
   "language": "python",
   "name": "python3"
  },
  "language_info": {
   "codemirror_mode": {
    "name": "ipython",
    "version": 3
   },
   "file_extension": ".py",
   "mimetype": "text/x-python",
   "name": "python",
   "nbconvert_exporter": "python",
   "pygments_lexer": "ipython3",
   "version": "3.9.5"
  }
 },
 "nbformat": 4,
 "nbformat_minor": 5
}
