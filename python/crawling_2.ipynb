{
 "cells": [
  {
   "cell_type": "markdown",
   "metadata": {},
   "source": [
    "> 다나와 사이트에 로그인 한 후 관심상품 목록 출력하기"
   ]
  },
  {
   "cell_type": "code",
   "execution_count": 1,
   "metadata": {},
   "outputs": [],
   "source": [
    "from selenium import webdriver\n",
    "# import sec\n",
    "from bs4 import BeautifulSoup\n",
    "import time"
   ]
  },
  {
   "cell_type": "code",
   "execution_count": 2,
   "metadata": {},
   "outputs": [],
   "source": [
    "driver = webdriver.Chrome()"
   ]
  },
  {
   "cell_type": "code",
   "execution_count": 3,
   "metadata": {},
   "outputs": [],
   "source": [
    "driver.get('https://www.danawa.com')"
   ]
  },
  {
   "cell_type": "code",
   "execution_count": 4,
   "metadata": {},
   "outputs": [
    {
     "name": "stderr",
     "output_type": "stream",
     "text": [
      "C:\\Users\\짱남\\AppData\\Local\\Temp/ipykernel_12972/4183047557.py:2: DeprecationWarning: find_element_by_* commands are deprecated. Please use find_element() instead\n",
      "  driver.find_element_by_xpath(path).click()\n"
     ]
    }
   ],
   "source": [
    "path = '//*[@id=\"danawa_menubar\"]/div[3]/div[3]/a/span'\n",
    "driver.find_element_by_xpath(path).click()"
   ]
  },
  {
   "cell_type": "code",
   "execution_count": 8,
   "metadata": {},
   "outputs": [],
   "source": [
    "import sec"
   ]
  },
  {
   "cell_type": "code",
   "execution_count": 9,
   "metadata": {},
   "outputs": [
    {
     "ename": "AttributeError",
     "evalue": "module 'sec' has no attribute 'sec_id_pw'",
     "output_type": "error",
     "traceback": [
      "\u001b[1;31m---------------------------------------------------------------------------\u001b[0m",
      "\u001b[1;31mAttributeError\u001b[0m                            Traceback (most recent call last)",
      "\u001b[1;32m~\\AppData\\Local\\Temp/ipykernel_12972/4200867858.py\u001b[0m in \u001b[0;36m<module>\u001b[1;34m\u001b[0m\n\u001b[1;32m----> 1\u001b[1;33m \u001b[0muserid\u001b[0m \u001b[1;33m=\u001b[0m \u001b[0msec\u001b[0m\u001b[1;33m.\u001b[0m\u001b[0msec_id_pw\u001b[0m\u001b[1;33m[\u001b[0m\u001b[1;34m'id'\u001b[0m\u001b[1;33m]\u001b[0m\u001b[1;33m\u001b[0m\u001b[1;33m\u001b[0m\u001b[0m\n\u001b[0m\u001b[0;32m      2\u001b[0m \u001b[0mpasswd\u001b[0m \u001b[1;33m=\u001b[0m \u001b[0msec\u001b[0m\u001b[1;33m.\u001b[0m\u001b[0msec_id_pw\u001b[0m\u001b[1;33m[\u001b[0m\u001b[1;34m'pw'\u001b[0m\u001b[1;33m]\u001b[0m\u001b[1;33m\u001b[0m\u001b[1;33m\u001b[0m\u001b[0m\n",
      "\u001b[1;31mAttributeError\u001b[0m: module 'sec' has no attribute 'sec_id_pw'"
     ]
    }
   ],
   "source": [
    "userid = sec.sec_id_pw['id']\n",
    "passwd = sec.sec_id_pw['pw']"
   ]
  },
  {
   "cell_type": "markdown",
   "metadata": {},
   "source": [
    "> 구글 홈페이지에서 검색어를 입력한 후 이미지 검색 결과를 크롤링하기  \n",
    "element에서 특정 속성값을 추출하는 메소드 : get_attribute('href'), get_attribute('src')"
   ]
  },
  {
   "cell_type": "code",
   "execution_count": 10,
   "metadata": {},
   "outputs": [],
   "source": [
    "from selenium import webdriver\n",
    "from selenium.webdriver.common.keys import Keys\n",
    "import urllib.request"
   ]
  },
  {
   "cell_type": "code",
   "execution_count": 11,
   "metadata": {},
   "outputs": [],
   "source": [
    "url = 'http://www.google.com'\n",
    "driver = webdriver.Chrome()\n",
    "driver.get(url)"
   ]
  },
  {
   "cell_type": "code",
   "execution_count": 12,
   "metadata": {},
   "outputs": [
    {
     "name": "stderr",
     "output_type": "stream",
     "text": [
      "C:\\Users\\짱남\\AppData\\Local\\Temp/ipykernel_12972/2980493499.py:1: DeprecationWarning: find_element_by_* commands are deprecated. Please use find_element() instead\n",
      "  elem = driver.find_element_by_css_selector('input.gLFyf.gsfi')\n"
     ]
    }
   ],
   "source": [
    "elem = driver.find_element_by_css_selector('input.gLFyf.gsfi')\n",
    "elem.send_keys('빅데이터')"
   ]
  },
  {
   "cell_type": "code",
   "execution_count": 13,
   "metadata": {},
   "outputs": [],
   "source": [
    "elem.send_keys(Keys.RETURN)"
   ]
  },
  {
   "cell_type": "code",
   "execution_count": 14,
   "metadata": {},
   "outputs": [
    {
     "name": "stderr",
     "output_type": "stream",
     "text": [
      "C:\\Users\\짱남\\AppData\\Local\\Temp/ipykernel_12972/3775787360.py:1: DeprecationWarning: find_element_by_* commands are deprecated. Please use find_element() instead\n",
      "  driver.find_element_by_xpath('//*[@id=\"hdtb-msb\"]/div[1]/div/div[2]/a').click()\n"
     ]
    }
   ],
   "source": [
    "driver.find_element_by_xpath('//*[@id=\"hdtb-msb\"]/div[1]/div/div[2]/a').click()"
   ]
  },
  {
   "cell_type": "code",
   "execution_count": 15,
   "metadata": {},
   "outputs": [
    {
     "name": "stderr",
     "output_type": "stream",
     "text": [
      "C:\\Users\\짱남\\AppData\\Local\\Temp/ipykernel_12972/2015522662.py:16: DeprecationWarning: find_element_by_* commands are deprecated. Please use find_element() instead\n",
      "  driver.find_element_by_css_selector(\".mye4qd\").click()\n"
     ]
    }
   ],
   "source": [
    "import time\n",
    "# 스크롤을 끝까지 내리는 코드\n",
    "\n",
    "SCROLL_PAUSE_TIME = 2\n",
    "\n",
    "last_height = driver.execute_script(\"return document.body.scrollHeight\")\n",
    "\n",
    "while True: \n",
    "    driver.execute_script('window.scrollTo(0, document.body.scrollHeight);')\n",
    "    time.sleep(SCROLL_PAUSE_TIME)\n",
    "    \n",
    "    new_height = driver.execute_script('return document.body.scrollHeight')\n",
    "    if new_height == last_height:\n",
    "        try:\n",
    "            time.sleep(SCROLL_PAUSE_TIME)\n",
    "            driver.find_element_by_css_selector(\".mye4qd\").click()\n",
    "        except:\n",
    "            break\n",
    "    last_height = new_height"
   ]
  },
  {
   "cell_type": "code",
   "execution_count": 16,
   "metadata": {},
   "outputs": [
    {
     "name": "stderr",
     "output_type": "stream",
     "text": [
      "C:\\Users\\짱남\\AppData\\Local\\Temp/ipykernel_12972/2395814580.py:1: DeprecationWarning: find_elements_by_* commands are deprecated. Please use find_elements() instead\n",
      "  images = driver.find_elements_by_css_selector('img.rg_i.Q4LuWd')\n"
     ]
    },
    {
     "data": {
      "text/plain": [
       "896"
      ]
     },
     "execution_count": 16,
     "metadata": {},
     "output_type": "execute_result"
    }
   ],
   "source": [
    "images = driver.find_elements_by_css_selector('img.rg_i.Q4LuWd')\n",
    "len(images)"
   ]
  },
  {
   "cell_type": "code",
   "execution_count": null,
   "metadata": {},
   "outputs": [],
   "source": [
    "# 구글 이미지는 한번에 크롤링하지 못하게 되어있더라;;;;"
   ]
  },
  {
   "cell_type": "markdown",
   "metadata": {},
   "source": [
    "> 중고나라 검색으로 크롤링 해오기"
   ]
  },
  {
   "cell_type": "code",
   "execution_count": 17,
   "metadata": {},
   "outputs": [],
   "source": [
    "from selenium import webdriver\n",
    "from selenium.webdriver.common.keys import Keys\n",
    "from bs4 import BeautifulSoup"
   ]
  },
  {
   "cell_type": "code",
   "execution_count": 18,
   "metadata": {},
   "outputs": [],
   "source": [
    "driver = webdriver.Chrome()\n",
    "url = 'https://cafe.naver.com/joonggonara'\n",
    "driver.get(url)"
   ]
  },
  {
   "cell_type": "code",
   "execution_count": 20,
   "metadata": {},
   "outputs": [
    {
     "name": "stderr",
     "output_type": "stream",
     "text": [
      "C:\\Users\\짱남\\AppData\\Local\\Temp/ipykernel_12972/1450859144.py:1: DeprecationWarning: find_element_by_* commands are deprecated. Please use find_element() instead\n",
      "  elem = driver.find_element_by_css_selector('#topLayerQueryInput')\n"
     ]
    }
   ],
   "source": [
    "elem = driver.find_element_by_css_selector('#topLayerQueryInput')"
   ]
  },
  {
   "cell_type": "code",
   "execution_count": 21,
   "metadata": {},
   "outputs": [],
   "source": [
    "elem.send_keys('자전거')\n",
    "elem.send_keys(Keys.RETURN)"
   ]
  },
  {
   "cell_type": "code",
   "execution_count": 22,
   "metadata": {},
   "outputs": [
    {
     "name": "stderr",
     "output_type": "stream",
     "text": [
      "C:\\Users\\짱남\\AppData\\Local\\Temp/ipykernel_12972/399073676.py:1: DeprecationWarning: find_elements_by_* commands are deprecated. Please use find_elements() instead\n",
      "  elem = driver.find_elements_by_css_selector('#main-area > div:nth-child(7) > table > tbody > tr > td.td_article > div.board-list > div > a')\n"
     ]
    },
    {
     "data": {
      "text/plain": [
       "[]"
      ]
     },
     "execution_count": 22,
     "metadata": {},
     "output_type": "execute_result"
    }
   ],
   "source": [
    "elem = driver.find_elements_by_css_selector('#main-area > div:nth-child(7) > table > tbody > tr > td.td_article > div.board-list > div > a')\n",
    "elem"
   ]
  },
  {
   "cell_type": "code",
   "execution_count": 23,
   "metadata": {},
   "outputs": [
    {
     "name": "stderr",
     "output_type": "stream",
     "text": [
      "C:\\Users\\짱남\\AppData\\Local\\Temp/ipykernel_12972/2836088684.py:1: DeprecationWarning: find_elements_by_* commands are deprecated. Please use find_elements() instead\n",
      "  elem = driver.find_elements_by_xpath('//*[@id=\"main-area\"]/div[5]/table/tbody/tr[1]/td[1]/div[2]/div/a')\n"
     ]
    },
    {
     "data": {
      "text/plain": [
       "[]"
      ]
     },
     "execution_count": 23,
     "metadata": {},
     "output_type": "execute_result"
    }
   ],
   "source": [
    "elem = driver.find_elements_by_xpath('//*[@id=\"main-area\"]/div[5]/table/tbody/tr[1]/td[1]/div[2]/div/a')\n",
    "elem"
   ]
  },
  {
   "cell_type": "code",
   "execution_count": null,
   "metadata": {},
   "outputs": [],
   "source": [
    "# iframe - html\n",
    "# html 안에 다른 웹페이지를 가져와서 보여주는 기능\n",
    "# iframe 내부에 있는 내용을 크롤링 하고자 하는 경우\n",
    "# => 콘텐츠가 있는 원본 사이트로 이동을 해야 한다.."
   ]
  },
  {
   "cell_type": "code",
   "execution_count": 24,
   "metadata": {},
   "outputs": [
    {
     "name": "stderr",
     "output_type": "stream",
     "text": [
      "C:\\Users\\짱남\\AppData\\Local\\Temp/ipykernel_12972/3360660193.py:2: DeprecationWarning: find_element_by_* commands are deprecated. Please use find_element() instead\n",
      "  iframe = driver.find_element_by_id('cafe_main')\n"
     ]
    }
   ],
   "source": [
    "# iframe 내부의 프레임으로 이동..\n",
    "iframe = driver.find_element_by_id('cafe_main')"
   ]
  },
  {
   "cell_type": "code",
   "execution_count": 25,
   "metadata": {},
   "outputs": [],
   "source": [
    "driver.switch_to.frame(iframe)"
   ]
  },
  {
   "cell_type": "code",
   "execution_count": 26,
   "metadata": {},
   "outputs": [
    {
     "name": "stderr",
     "output_type": "stream",
     "text": [
      "C:\\Users\\짱남\\AppData\\Local\\Temp/ipykernel_12972/2770582462.py:1: DeprecationWarning: find_elements_by_* commands are deprecated. Please use find_elements() instead\n",
      "  elems = driver.find_elements_by_css_selector('a.article')\n"
     ]
    },
    {
     "data": {
      "text/plain": [
       "[<selenium.webdriver.remote.webelement.WebElement (session=\"a2c8e23c2e3550dc2c496f9e13f7ae74\", element=\"94bfa2ca-139e-4f18-8211-5b0942d63410\")>,\n",
       " <selenium.webdriver.remote.webelement.WebElement (session=\"a2c8e23c2e3550dc2c496f9e13f7ae74\", element=\"c20f0772-1801-4da4-981e-d561e3bd6c56\")>,\n",
       " <selenium.webdriver.remote.webelement.WebElement (session=\"a2c8e23c2e3550dc2c496f9e13f7ae74\", element=\"e8e5f605-a4a8-4218-abbe-a1212852e198\")>,\n",
       " <selenium.webdriver.remote.webelement.WebElement (session=\"a2c8e23c2e3550dc2c496f9e13f7ae74\", element=\"e078977a-f093-4311-a21f-5652f0036a63\")>,\n",
       " <selenium.webdriver.remote.webelement.WebElement (session=\"a2c8e23c2e3550dc2c496f9e13f7ae74\", element=\"6a40d68f-0206-4e8d-b971-5fb5cd2d9c6a\")>,\n",
       " <selenium.webdriver.remote.webelement.WebElement (session=\"a2c8e23c2e3550dc2c496f9e13f7ae74\", element=\"4c87da2b-4435-4745-b8ac-d05b62103ec1\")>,\n",
       " <selenium.webdriver.remote.webelement.WebElement (session=\"a2c8e23c2e3550dc2c496f9e13f7ae74\", element=\"568dd160-dbde-43bf-a235-3c5a357395e8\")>,\n",
       " <selenium.webdriver.remote.webelement.WebElement (session=\"a2c8e23c2e3550dc2c496f9e13f7ae74\", element=\"71a67092-5909-4f72-8e4c-060ca2915657\")>,\n",
       " <selenium.webdriver.remote.webelement.WebElement (session=\"a2c8e23c2e3550dc2c496f9e13f7ae74\", element=\"10f21e21-74d6-4dd2-85e1-4589f9a59316\")>,\n",
       " <selenium.webdriver.remote.webelement.WebElement (session=\"a2c8e23c2e3550dc2c496f9e13f7ae74\", element=\"245a4cb9-2511-4db1-a2b5-b5fad58140b7\")>,\n",
       " <selenium.webdriver.remote.webelement.WebElement (session=\"a2c8e23c2e3550dc2c496f9e13f7ae74\", element=\"1942d655-3675-4e23-9bb0-77f36c289de4\")>,\n",
       " <selenium.webdriver.remote.webelement.WebElement (session=\"a2c8e23c2e3550dc2c496f9e13f7ae74\", element=\"74db3437-602e-43c3-8f4d-6f35c4f6cbc5\")>,\n",
       " <selenium.webdriver.remote.webelement.WebElement (session=\"a2c8e23c2e3550dc2c496f9e13f7ae74\", element=\"548e502f-9beb-4a73-8911-63397ac05176\")>,\n",
       " <selenium.webdriver.remote.webelement.WebElement (session=\"a2c8e23c2e3550dc2c496f9e13f7ae74\", element=\"a47c3d2f-b6f7-40c4-9281-9374b55db0bd\")>,\n",
       " <selenium.webdriver.remote.webelement.WebElement (session=\"a2c8e23c2e3550dc2c496f9e13f7ae74\", element=\"5bd7af0e-dfdb-4409-ba17-20b6632c04c4\")>]"
      ]
     },
     "execution_count": 26,
     "metadata": {},
     "output_type": "execute_result"
    }
   ],
   "source": [
    "elems = driver.find_elements_by_css_selector('a.article')\n",
    "elems"
   ]
  },
  {
   "cell_type": "code",
   "execution_count": 27,
   "metadata": {},
   "outputs": [
    {
     "name": "stdout",
     "output_type": "stream",
     "text": [
      "22인치 21단 MTB자전거 판매합니다.\n",
      "샘트라이크 800 플러스 유아 자전거, 유아 킥보드 싸게 팔아요~(거의 새 것)\n",
      "툴레 자전거 캐리어 가로바\n",
      "[창원 마산 진해] 실내자전거\n",
      "자전거용품 팝니다.\n",
      "[앱상품][SKS 자전거 머드가드][40,000원]\n",
      "[팝니다]우라노3 업글 팻바이크 자전거 팝니다(부산)\n",
      "3.4.5 학년 어린이 자전거\n",
      "혼다h1/전기스쿠터/전기자전거/보험X/번호판X/가격인하\n",
      "[앱상품][자전거 리어 쇼바 리어쇽 DNM][140,000원]\n",
      "6.7.8세 어린이 자전거\n",
      "자동차에 붙일 만한 캠핑/자전거/서핑/낚시 방수 스티커 판매해요.(50장씩 약3천원)\n",
      "폰에 붙이기 좋은 캠핑/자전거/서핑/낚시 방수 스티커 판매해요.(50장씩 약3천원)\n",
      "모페즈 스타일 전기자전거 바이로 와일드S 싸게 팝니다.\n",
      "숀리 엑스바이크 실내자전거 입니다 대전\n"
     ]
    }
   ],
   "source": [
    "for e in elems:\n",
    "    print(e.text)"
   ]
  },
  {
   "cell_type": "markdown",
   "metadata": {},
   "source": [
    "> 아마존 베스트셀러 appliances 카테고리의 모든 제품 랭킹, 타이틀, 댓글수, 가격 정보 출력"
   ]
  },
  {
   "cell_type": "code",
   "execution_count": 26,
   "metadata": {},
   "outputs": [],
   "source": [
    "# http://www.amazon.com/bestsellers\n",
    "from selenium import webdriver\n",
    "from selenium.webdriver.common.keys import Keys\n",
    "\n",
    "driver = webdriver.Chrome()\n",
    "driver.get('http://www.amazon.com/bestsellers')"
   ]
  },
  {
   "cell_type": "code",
   "execution_count": 27,
   "metadata": {},
   "outputs": [
    {
     "name": "stderr",
     "output_type": "stream",
     "text": [
      "C:\\Users\\짱남\\AppData\\Local\\Temp/ipykernel_18752/3491732411.py:3: DeprecationWarning: find_element_by_* commands are deprecated. Please use find_element() instead\n",
      "  driver.find_element_by_link_text(path).click()\n"
     ]
    },
    {
     "ename": "NoSuchElementException",
     "evalue": "Message: no such element: Unable to locate element: {\"method\":\"link text\",\"selector\":\"#CardInstanceOgCldKSpkZcz4TE-mU6IvA > div._p13n-zg-nav-tree-all_style_zg-browse-group__88fbz > div:nth-child(4) > a\"}\n  (Session info: chrome=97.0.4692.99)\nStacktrace:\nBacktrace:\n\tOrdinal0 [0x00FFFDC3+2555331]\n\tOrdinal0 [0x00F977F1+2127857]\n\tOrdinal0 [0x00E92E08+1060360]\n\tOrdinal0 [0x00EBE49E+1238174]\n\tOrdinal0 [0x00EBE69B+1238683]\n\tOrdinal0 [0x00EE9252+1413714]\n\tOrdinal0 [0x00ED7B54+1342292]\n\tOrdinal0 [0x00EE75FA+1406458]\n\tOrdinal0 [0x00ED7976+1341814]\n\tOrdinal0 [0x00EB36B6+1193654]\n\tOrdinal0 [0x00EB4546+1197382]\n\tGetHandleVerifier [0x01199622+1619522]\n\tGetHandleVerifier [0x0124882C+2336844]\n\tGetHandleVerifier [0x010923E1+541697]\n\tGetHandleVerifier [0x01091443+537699]\n\tOrdinal0 [0x00F9D18E+2150798]\n\tOrdinal0 [0x00FA1518+2168088]\n\tOrdinal0 [0x00FA1660+2168416]\n\tOrdinal0 [0x00FAB330+2208560]\n\tBaseThreadInitThunk [0x76E86A14+36]\n\tRtlInitializeExceptionChain [0x7731A9EF+143]\n\tRtlInitializeExceptionChain [0x7731A9BA+90]\n",
     "output_type": "error",
     "traceback": [
      "\u001b[1;31m---------------------------------------------------------------------------\u001b[0m",
      "\u001b[1;31mNoSuchElementException\u001b[0m                    Traceback (most recent call last)",
      "\u001b[1;32m~\\AppData\\Local\\Temp/ipykernel_18752/3491732411.py\u001b[0m in \u001b[0;36m<module>\u001b[1;34m\u001b[0m\n\u001b[0;32m      1\u001b[0m \u001b[1;31m# 이유를 알수없지만 appliances 항목을 눌루면 될때도 있고, 안될때도 있음...\u001b[0m\u001b[1;33m\u001b[0m\u001b[1;33m\u001b[0m\u001b[0m\n\u001b[0;32m      2\u001b[0m \u001b[0mpath\u001b[0m \u001b[1;33m=\u001b[0m \u001b[1;34m'#CardInstanceOgCldKSpkZcz4TE-mU6IvA > div._p13n-zg-nav-tree-all_style_zg-browse-group__88fbz > div:nth-child(4) > a'\u001b[0m\u001b[1;33m\u001b[0m\u001b[1;33m\u001b[0m\u001b[0m\n\u001b[1;32m----> 3\u001b[1;33m \u001b[0mdriver\u001b[0m\u001b[1;33m.\u001b[0m\u001b[0mfind_element_by_link_text\u001b[0m\u001b[1;33m(\u001b[0m\u001b[0mpath\u001b[0m\u001b[1;33m)\u001b[0m\u001b[1;33m.\u001b[0m\u001b[0mclick\u001b[0m\u001b[1;33m(\u001b[0m\u001b[1;33m)\u001b[0m\u001b[1;33m\u001b[0m\u001b[1;33m\u001b[0m\u001b[0m\n\u001b[0m",
      "\u001b[1;32m~\\AppData\\Local\\Programs\\Python\\Python310\\lib\\site-packages\\selenium\\webdriver\\remote\\webdriver.py\u001b[0m in \u001b[0;36mfind_element_by_link_text\u001b[1;34m(self, link_text)\u001b[0m\n\u001b[0;32m    566\u001b[0m             \u001b[0mstacklevel\u001b[0m\u001b[1;33m=\u001b[0m\u001b[1;36m2\u001b[0m\u001b[1;33m,\u001b[0m\u001b[1;33m\u001b[0m\u001b[1;33m\u001b[0m\u001b[0m\n\u001b[0;32m    567\u001b[0m         )\n\u001b[1;32m--> 568\u001b[1;33m         \u001b[1;32mreturn\u001b[0m \u001b[0mself\u001b[0m\u001b[1;33m.\u001b[0m\u001b[0mfind_element\u001b[0m\u001b[1;33m(\u001b[0m\u001b[0mby\u001b[0m\u001b[1;33m=\u001b[0m\u001b[0mBy\u001b[0m\u001b[1;33m.\u001b[0m\u001b[0mLINK_TEXT\u001b[0m\u001b[1;33m,\u001b[0m \u001b[0mvalue\u001b[0m\u001b[1;33m=\u001b[0m\u001b[0mlink_text\u001b[0m\u001b[1;33m)\u001b[0m\u001b[1;33m\u001b[0m\u001b[1;33m\u001b[0m\u001b[0m\n\u001b[0m\u001b[0;32m    569\u001b[0m \u001b[1;33m\u001b[0m\u001b[0m\n\u001b[0;32m    570\u001b[0m     \u001b[1;32mdef\u001b[0m \u001b[0mfind_elements_by_link_text\u001b[0m\u001b[1;33m(\u001b[0m\u001b[0mself\u001b[0m\u001b[1;33m,\u001b[0m \u001b[0mtext\u001b[0m\u001b[1;33m)\u001b[0m \u001b[1;33m->\u001b[0m \u001b[0mWebElement\u001b[0m\u001b[1;33m:\u001b[0m\u001b[1;33m\u001b[0m\u001b[1;33m\u001b[0m\u001b[0m\n",
      "\u001b[1;32m~\\AppData\\Local\\Programs\\Python\\Python310\\lib\\site-packages\\selenium\\webdriver\\remote\\webdriver.py\u001b[0m in \u001b[0;36mfind_element\u001b[1;34m(self, by, value)\u001b[0m\n\u001b[0;32m   1242\u001b[0m             \u001b[0mvalue\u001b[0m \u001b[1;33m=\u001b[0m \u001b[1;34m'[name=\"%s\"]'\u001b[0m \u001b[1;33m%\u001b[0m \u001b[0mvalue\u001b[0m\u001b[1;33m\u001b[0m\u001b[1;33m\u001b[0m\u001b[0m\n\u001b[0;32m   1243\u001b[0m \u001b[1;33m\u001b[0m\u001b[0m\n\u001b[1;32m-> 1244\u001b[1;33m         return self.execute(Command.FIND_ELEMENT, {\n\u001b[0m\u001b[0;32m   1245\u001b[0m             \u001b[1;34m'using'\u001b[0m\u001b[1;33m:\u001b[0m \u001b[0mby\u001b[0m\u001b[1;33m,\u001b[0m\u001b[1;33m\u001b[0m\u001b[1;33m\u001b[0m\u001b[0m\n\u001b[0;32m   1246\u001b[0m             'value': value})['value']\n",
      "\u001b[1;32m~\\AppData\\Local\\Programs\\Python\\Python310\\lib\\site-packages\\selenium\\webdriver\\remote\\webdriver.py\u001b[0m in \u001b[0;36mexecute\u001b[1;34m(self, driver_command, params)\u001b[0m\n\u001b[0;32m    422\u001b[0m         \u001b[0mresponse\u001b[0m \u001b[1;33m=\u001b[0m \u001b[0mself\u001b[0m\u001b[1;33m.\u001b[0m\u001b[0mcommand_executor\u001b[0m\u001b[1;33m.\u001b[0m\u001b[0mexecute\u001b[0m\u001b[1;33m(\u001b[0m\u001b[0mdriver_command\u001b[0m\u001b[1;33m,\u001b[0m \u001b[0mparams\u001b[0m\u001b[1;33m)\u001b[0m\u001b[1;33m\u001b[0m\u001b[1;33m\u001b[0m\u001b[0m\n\u001b[0;32m    423\u001b[0m         \u001b[1;32mif\u001b[0m \u001b[0mresponse\u001b[0m\u001b[1;33m:\u001b[0m\u001b[1;33m\u001b[0m\u001b[1;33m\u001b[0m\u001b[0m\n\u001b[1;32m--> 424\u001b[1;33m             \u001b[0mself\u001b[0m\u001b[1;33m.\u001b[0m\u001b[0merror_handler\u001b[0m\u001b[1;33m.\u001b[0m\u001b[0mcheck_response\u001b[0m\u001b[1;33m(\u001b[0m\u001b[0mresponse\u001b[0m\u001b[1;33m)\u001b[0m\u001b[1;33m\u001b[0m\u001b[1;33m\u001b[0m\u001b[0m\n\u001b[0m\u001b[0;32m    425\u001b[0m             response['value'] = self._unwrap_value(\n\u001b[0;32m    426\u001b[0m                 response.get('value', None))\n",
      "\u001b[1;32m~\\AppData\\Local\\Programs\\Python\\Python310\\lib\\site-packages\\selenium\\webdriver\\remote\\errorhandler.py\u001b[0m in \u001b[0;36mcheck_response\u001b[1;34m(self, response)\u001b[0m\n\u001b[0;32m    245\u001b[0m                 \u001b[0malert_text\u001b[0m \u001b[1;33m=\u001b[0m \u001b[0mvalue\u001b[0m\u001b[1;33m[\u001b[0m\u001b[1;34m'alert'\u001b[0m\u001b[1;33m]\u001b[0m\u001b[1;33m.\u001b[0m\u001b[0mget\u001b[0m\u001b[1;33m(\u001b[0m\u001b[1;34m'text'\u001b[0m\u001b[1;33m)\u001b[0m\u001b[1;33m\u001b[0m\u001b[1;33m\u001b[0m\u001b[0m\n\u001b[0;32m    246\u001b[0m             \u001b[1;32mraise\u001b[0m \u001b[0mexception_class\u001b[0m\u001b[1;33m(\u001b[0m\u001b[0mmessage\u001b[0m\u001b[1;33m,\u001b[0m \u001b[0mscreen\u001b[0m\u001b[1;33m,\u001b[0m \u001b[0mstacktrace\u001b[0m\u001b[1;33m,\u001b[0m \u001b[0malert_text\u001b[0m\u001b[1;33m)\u001b[0m  \u001b[1;31m# type: ignore[call-arg]  # mypy is not smart enough here\u001b[0m\u001b[1;33m\u001b[0m\u001b[1;33m\u001b[0m\u001b[0m\n\u001b[1;32m--> 247\u001b[1;33m         \u001b[1;32mraise\u001b[0m \u001b[0mexception_class\u001b[0m\u001b[1;33m(\u001b[0m\u001b[0mmessage\u001b[0m\u001b[1;33m,\u001b[0m \u001b[0mscreen\u001b[0m\u001b[1;33m,\u001b[0m \u001b[0mstacktrace\u001b[0m\u001b[1;33m)\u001b[0m\u001b[1;33m\u001b[0m\u001b[1;33m\u001b[0m\u001b[0m\n\u001b[0m\u001b[0;32m    248\u001b[0m \u001b[1;33m\u001b[0m\u001b[0m\n\u001b[0;32m    249\u001b[0m     \u001b[1;32mdef\u001b[0m \u001b[0m_value_or_default\u001b[0m\u001b[1;33m(\u001b[0m\u001b[0mself\u001b[0m\u001b[1;33m,\u001b[0m \u001b[0mobj\u001b[0m\u001b[1;33m:\u001b[0m \u001b[0mMapping\u001b[0m\u001b[1;33m[\u001b[0m\u001b[0m_KT\u001b[0m\u001b[1;33m,\u001b[0m \u001b[0m_VT\u001b[0m\u001b[1;33m]\u001b[0m\u001b[1;33m,\u001b[0m \u001b[0mkey\u001b[0m\u001b[1;33m:\u001b[0m \u001b[0m_KT\u001b[0m\u001b[1;33m,\u001b[0m \u001b[0mdefault\u001b[0m\u001b[1;33m:\u001b[0m \u001b[0m_VT\u001b[0m\u001b[1;33m)\u001b[0m \u001b[1;33m->\u001b[0m \u001b[0m_VT\u001b[0m\u001b[1;33m:\u001b[0m\u001b[1;33m\u001b[0m\u001b[1;33m\u001b[0m\u001b[0m\n",
      "\u001b[1;31mNoSuchElementException\u001b[0m: Message: no such element: Unable to locate element: {\"method\":\"link text\",\"selector\":\"#CardInstanceOgCldKSpkZcz4TE-mU6IvA > div._p13n-zg-nav-tree-all_style_zg-browse-group__88fbz > div:nth-child(4) > a\"}\n  (Session info: chrome=97.0.4692.99)\nStacktrace:\nBacktrace:\n\tOrdinal0 [0x00FFFDC3+2555331]\n\tOrdinal0 [0x00F977F1+2127857]\n\tOrdinal0 [0x00E92E08+1060360]\n\tOrdinal0 [0x00EBE49E+1238174]\n\tOrdinal0 [0x00EBE69B+1238683]\n\tOrdinal0 [0x00EE9252+1413714]\n\tOrdinal0 [0x00ED7B54+1342292]\n\tOrdinal0 [0x00EE75FA+1406458]\n\tOrdinal0 [0x00ED7976+1341814]\n\tOrdinal0 [0x00EB36B6+1193654]\n\tOrdinal0 [0x00EB4546+1197382]\n\tGetHandleVerifier [0x01199622+1619522]\n\tGetHandleVerifier [0x0124882C+2336844]\n\tGetHandleVerifier [0x010923E1+541697]\n\tGetHandleVerifier [0x01091443+537699]\n\tOrdinal0 [0x00F9D18E+2150798]\n\tOrdinal0 [0x00FA1518+2168088]\n\tOrdinal0 [0x00FA1660+2168416]\n\tOrdinal0 [0x00FAB330+2208560]\n\tBaseThreadInitThunk [0x76E86A14+36]\n\tRtlInitializeExceptionChain [0x7731A9EF+143]\n\tRtlInitializeExceptionChain [0x7731A9BA+90]\n"
     ]
    }
   ],
   "source": [
    "# 이유를 알수없지만 appliances 항목을 눌루면 될때도 있고, 안될때도 있음...\n",
    "path = '#CardInstanceOgCldKSpkZcz4TE-mU6IvA > div._p13n-zg-nav-tree-all_style_zg-browse-group__88fbz > div:nth-child(4) > a'\n",
    "driver.find_element_by_link_text(path).click()"
   ]
  },
  {
   "cell_type": "code",
   "execution_count": 28,
   "metadata": {},
   "outputs": [],
   "source": [
    "import requests\n",
    "from bs4 import BeautifulSoup\n",
    "html = driver.page_source\n",
    "soup = BeautifulSoup(html, 'html.parser')\n",
    "path = '#zg-ordered-list > li'\n",
    "tags = soup.select(path)\n",
    "# tags[0:2]"
   ]
  },
  {
   "cell_type": "code",
   "execution_count": 30,
   "metadata": {},
   "outputs": [
    {
     "name": "stdout",
     "output_type": "stream",
     "text": [
      "rank : #1\n",
      "name : Frigidaire EFIC-B-SS Ice Maker, Black Stainless Steel\n",
      "comment 452\n",
      "price 2 offers from $89.98\n",
      "rank : #2\n",
      "name : Silonn Ice Makers Countertop, 9 Cubes Ready in 6 Mins, 26lbs in 24Hrs, Self-Cleaning Ice…\n",
      "comment 1,635\n",
      "price $316.98 - $317.00\n",
      "rank : #3\n",
      "name : Frigidaire EFIC189-Silver Compact Ice Maker, 26 lb per Day, Silver\n",
      "comment 8,433\n",
      "price $129.99\n",
      "rank : #4\n",
      "name : AGLUCKY Ice Maker Machine for Countertop, Portable Ice Cube Makers, Make 26 lbs ice in…\n",
      "comment 10,739\n",
      "price 3 offers from $110.49\n",
      "rank : #5\n",
      "name : GE Profile Opal | Countertop Nugget Ice Maker with Side Tank | Portable Ice Machine with…\n",
      "comment 15,109\n",
      "price 9 offers from $412.49\n",
      "rank : #6\n",
      "name : 2-Pack Ice Machine Cleaner and Descaler 16 fl oz, Nickel Safe Descaler | Ice Maker Cleaner…\n",
      "comment 774\n",
      "price $19.99 - $44.99\n",
      "rank : #7\n",
      "name : OxiClean Gel Sticks - 6.2 oz - 2 pk by OxiClean\n",
      "comment 289\n",
      "price $15.69\n",
      "rank : #8\n",
      "name : Midea MRU03M2ABB Upright Freezer Large Black, 3.0 Cubic Feet\n",
      "comment 12,134\n",
      "price $157.55 - $420.00\n",
      "rank : #9\n",
      "name : Arctic King 5 cu ft Chest Freezer for Your House, Garage, Basement, Apartment,…\n",
      "comment 6,933\n",
      "price 113 offers from $199.00\n",
      "rank : #10\n",
      "name : Arctic King Chest Freezer 5 cu ft (Black)\n",
      "comment 229\n",
      "price 72 offers from $207.88\n",
      "rank : #11\n",
      "name : Giantex Portable Mini Compact Twin Tub Washing Machine 17.6lbs Washer Spain…\n",
      "comment 10,870\n",
      "price 1 offer from $199.99\n",
      "rank : #12\n",
      "name : Broan-NuTone 412101 Non-Ducted Ductless Range Hood with Lights Exhaust Fan for…\n",
      "comment 12,050\n",
      "price $42.84 - $312.33\n",
      "rank : #13\n",
      "name : Euhomy Ice Maker Machine Countertop,26 lbs in 24 Hours,9 Cubes Ready in 6 Mins, Electric…\n",
      "comment 8,979\n",
      "price $129.99\n",
      "rank : #14\n",
      "name : Dreamiracle Ice Maker Machine Countertop, 26 lbs in 24 Hours, Self-cleaning Ice Maker…\n",
      "comment 188\n",
      "price $129.99\n",
      "rank : #15\n",
      "name : Midea MRU03M2ABB Upright Freezer Large Black, 3.0 Cubic Feet\n",
      "comment 12,134\n",
      "price 3 offers from $183.08\n",
      "rank : #16\n",
      "name : SUPER DEAL Compact Mini Twin Tub Washing Machine, Portable Laundry Washer w/Wash…\n",
      "comment 7,877\n",
      "price 1 offer from $163.99\n",
      "rank : #17\n",
      "name : COMFEE’ 1.6 Cu.ft Portable Washing Machine, 11lbs Capacity Fully Automatic Compact…\n",
      "comment 2,779\n",
      "price $323.51 - $658.00\n",
      "rank : #18\n",
      "name : Broan-NuTone F403008 Two-Speed Four-Way Convertible Range Hood, 30-Inch, Almond\n",
      "comment 6,548\n",
      "price $51.80 - $305.24\n",
      "rank : #19\n",
      "name : Broan-NuTone 30-inch Under-Cabinet Convertible Range Hood with 2-Speed…\n",
      "comment 1,478\n",
      "price $49.98 - $134.66\n",
      "rank : #20\n",
      "name : Portable Washing Machine Mini Washing 3in1 Dishwashers Mini Lights Ultrasonic Waves…\n",
      "comment 98\n",
      "price $22.99 - $25.99\n",
      "rank : #21\n",
      "name : Frigidaire EFIC452-SSBLACK XL Maker, Makes 40 Lbs. of Clear Square Ice Cubes A Day,…\n",
      "comment 1,913\n",
      "price $193.89 - $274.27\n",
      "rank : #22\n",
      "name : Whynter CUF-110B Energy Star 1.1 Cubic Feet Upright Lock, Black Freezer\n",
      "comment 4,819\n",
      "price $177.51 - $1,000.00\n",
      "rank : #23\n",
      "name : Frigidaire EFIC121-SSBLACK Ice Maker, Black Stainless\n",
      "comment 854\n",
      "price $140.00 - $299.99\n",
      "rank : #24\n",
      "name : Frigidaire EFIC237 Countertop Crunchy Chewable Nugget Ice Maker, 44lbs per Day,…\n",
      "comment 46\n",
      "price 6 offers from $255.53\n",
      "rank : #25\n",
      "name : EdgeStar DWP62SV 6 Place Setting Energy Star Rated Portable Countertop Dishwasher - Silver\n",
      "comment 717\n",
      "price $299.00\n",
      "rank : #26\n",
      "name : Broan-NuTone SP3004 Reversible Stainless Steel Backsplash Range Hood Wall Shield for…\n",
      "comment 2,239\n",
      "price $67.49\n",
      "rank : #27\n",
      "name : Arctic King 7 cu ft Chest Freezer, Black\n",
      "comment 348\n",
      "price 48 offers from $243.98\n",
      "rank : #28\n",
      "name : Frigidaire EFR341, 3.2 cu ft 2 Door Fridge and Freezer, Platinum Series, Stainless Steel,…\n",
      "comment 938\n",
      "price $329.82 - $699.99\n",
      "rank : #29\n",
      "name : Oline Ice Maker Machine, Automatic Self-Cleaning Portable Electric Countertop Ice…\n",
      "comment 730\n",
      "price $99.95 - $109.95\n",
      "rank : #30\n",
      "name : COSTWAY Mini Washing Machine with Spin Dryer, Washing Capacity 5.5lbs, Electric…\n",
      "comment 3,668\n",
      "price $102.99\n",
      "rank : #31\n",
      "name : VIVOHOME Electric Portable Compact Countertop Automatic Ice Cube Maker…\n",
      "comment 4,922\n",
      "price 4 offers from $119.33\n",
      "rank : #32\n",
      "name : COMFEE' Portable Washing Machine, 0.9 cu.ft Compact Washer With LED Display, 5 Wash…\n",
      "comment 1,989\n",
      "price $249.00 - $429.99\n",
      "rank : #33\n",
      "name : Wizisa Ice Maker Machine for Countertop, 9 Bullet Ice Cubes Ready in 6 Minutes, 26lbs in…\n",
      "comment 390\n",
      "price $112.99\n",
      "rank : #34\n",
      "name : Cosmo COS-5MU30 30 in. Under Cabinet Range Hood Ductless Convertible Duct, Slim…\n",
      "comment 5,003\n",
      "price $129.95 - $273.82\n",
      "rank : #35\n",
      "name : COSTWAY Compact Laundry Dryer, 110V Electric Portable Clothes Dryer with Stainless…\n",
      "comment 1,814\n",
      "price 1 offer from $279.99\n",
      "rank : #36\n",
      "name : BANGSON Portable Washing Machine, 17.6 lbs Washer(11Lbs) and Spinner(6.6Lbs), Mini…\n",
      "comment 364\n",
      "price $139.99 - $172.98\n",
      "rank : #37\n",
      "name : Igloo ICEB26AQ Automatic Portable Electric Countertop Ice Maker Machine, 26 Pounds in…\n",
      "comment 7,661\n",
      "price $149.99 - $285.00\n",
      "rank : #38\n",
      "name : CROWNFUL Ice Maker Countertop Machine, 9 Ice Cubes Ready in 8 Minutes, 26lbs Bullet Ice…\n",
      "comment 3,963\n",
      "price 3 offers from $89.99\n",
      "rank : #39\n",
      "name : BLACK & DECKER BPWM09W Portable Washer\n",
      "comment 1,461\n",
      "price $253.33\n",
      "rank : #40\n",
      "name : Frigidaire Counter Top Ice Maker, Produces 26 pounds Ice per Day, Stainless Steel with…\n",
      "comment 282\n",
      "price 4 offers from $91.08\n",
      "rank : #41\n",
      "name : KOBE Range Hoods INX2930SQBF-500-1 Built-In/Insert Range Hood, 30\"\n",
      "comment 429\n",
      "price $287.79 - $946.00\n",
      "rank : #42\n",
      "name : Deco Rapid Portable Automatic Electric Countertop Ice Maker - 6 Great Colors…\n",
      "comment 1,454\n",
      "price $109.99 - $129.99\n",
      "rank : #43\n",
      "name : AIRMSEN AE-TDQR03 Portable Countertop Dishwasher, Compact Mini Dishwasher with 5…\n",
      "comment 103\n",
      "price 1 offer from $359.99\n",
      "rank : #44\n",
      "name : Cosmo 668ICS750 30 in. Island Mount Range Hood with 380 CFM, Soft Touch Controls,…\n",
      "comment 1,478\n",
      "price $382.21 - $615.38\n",
      "rank : #45\n",
      "name : Cosmo 63175S 30 in. Wall Mount Range Hood with Ductless Convertible Duct (additional…\n",
      "comment 1,104\n",
      "price $249.99\n",
      "rank : #46\n",
      "name : Upstreman 3.2 Cu.Ft Mini Fridge with Freezer,2 door, Adjustable Thermostat, Low noise,…\n",
      "comment 3\n",
      "price 1 offer from $249.97\n",
      "rank : #47\n",
      "name : HCK44 Power Cord Kit, Compatible with Broan, Also Compatible with Whirlpool W10831110,…\n",
      "comment 78\n",
      "price $12.91\n",
      "rank : #48\n",
      "name : Refrigerator Garage Heater Kit for Frigidaire Kenmore Refrigerator 5303918301…\n",
      "comment 575\n",
      "price $15.99\n",
      "rank : #49\n",
      "name : Countertop Ice Maker Machine Portable, Self Cleaning Function, Mini Ice Makers, Make 26…\n",
      "comment 2,068\n",
      "price 1 offer from $99.99\n",
      "rank : #50\n",
      "name : The Laundry Alternative, WonderWash, Portable Washing Machine, Mini Washer,…\n",
      "comment 4,214\n",
      "price $69.95 - $109.97\n"
     ]
    },
    {
     "name": "stderr",
     "output_type": "stream",
     "text": [
      "C:\\Users\\짱남\\AppData\\Local\\Temp/ipykernel_18752/1379429932.py:13: DeprecationWarning: find_element_by_* commands are deprecated. Please use find_element() instead\n",
      "  driver.find_element_by_link_text(move_path).click()\n"
     ]
    },
    {
     "ename": "NoSuchElementException",
     "evalue": "Message: no such element: Unable to locate element: {\"method\":\"link text\",\"selector\":\"#zg-center-div > div.a-row.a-spacing-top-mini > div > ul > li.a-normal > a\"}\n  (Session info: chrome=97.0.4692.99)\nStacktrace:\nBacktrace:\n\tOrdinal0 [0x00FFFDC3+2555331]\n\tOrdinal0 [0x00F977F1+2127857]\n\tOrdinal0 [0x00E92E08+1060360]\n\tOrdinal0 [0x00EBE49E+1238174]\n\tOrdinal0 [0x00EBE69B+1238683]\n\tOrdinal0 [0x00EE9252+1413714]\n\tOrdinal0 [0x00ED7B54+1342292]\n\tOrdinal0 [0x00EE75FA+1406458]\n\tOrdinal0 [0x00ED7976+1341814]\n\tOrdinal0 [0x00EB36B6+1193654]\n\tOrdinal0 [0x00EB4546+1197382]\n\tGetHandleVerifier [0x01199622+1619522]\n\tGetHandleVerifier [0x0124882C+2336844]\n\tGetHandleVerifier [0x010923E1+541697]\n\tGetHandleVerifier [0x01091443+537699]\n\tOrdinal0 [0x00F9D18E+2150798]\n\tOrdinal0 [0x00FA1518+2168088]\n\tOrdinal0 [0x00FA1660+2168416]\n\tOrdinal0 [0x00FAB330+2208560]\n\tBaseThreadInitThunk [0x76E86A14+36]\n\tRtlInitializeExceptionChain [0x7731A9EF+143]\n\tRtlInitializeExceptionChain [0x7731A9BA+90]\n",
     "output_type": "error",
     "traceback": [
      "\u001b[1;31m---------------------------------------------------------------------------\u001b[0m",
      "\u001b[1;31mNoSuchElementException\u001b[0m                    Traceback (most recent call last)",
      "\u001b[1;32m~\\AppData\\Local\\Temp/ipykernel_18752/1379429932.py\u001b[0m in \u001b[0;36m<module>\u001b[1;34m\u001b[0m\n\u001b[0;32m     11\u001b[0m \u001b[1;33m\u001b[0m\u001b[0m\n\u001b[0;32m     12\u001b[0m \u001b[0mmove_path\u001b[0m \u001b[1;33m=\u001b[0m \u001b[1;34m'#zg-center-div > div.a-row.a-spacing-top-mini > div > ul > li.a-normal > a'\u001b[0m\u001b[1;33m\u001b[0m\u001b[1;33m\u001b[0m\u001b[0m\n\u001b[1;32m---> 13\u001b[1;33m \u001b[0mdriver\u001b[0m\u001b[1;33m.\u001b[0m\u001b[0mfind_element_by_link_text\u001b[0m\u001b[1;33m(\u001b[0m\u001b[0mmove_path\u001b[0m\u001b[1;33m)\u001b[0m\u001b[1;33m.\u001b[0m\u001b[0mclick\u001b[0m\u001b[1;33m(\u001b[0m\u001b[1;33m)\u001b[0m\u001b[1;33m\u001b[0m\u001b[1;33m\u001b[0m\u001b[0m\n\u001b[0m\u001b[0;32m     14\u001b[0m \u001b[0mtime\u001b[0m\u001b[1;33m.\u001b[0m\u001b[0msleep\u001b[0m\u001b[1;33m(\u001b[0m\u001b[1;36m5\u001b[0m\u001b[1;33m)\u001b[0m\u001b[1;33m\u001b[0m\u001b[1;33m\u001b[0m\u001b[0m\n\u001b[0;32m     15\u001b[0m \u001b[1;33m\u001b[0m\u001b[0m\n",
      "\u001b[1;32m~\\AppData\\Local\\Programs\\Python\\Python310\\lib\\site-packages\\selenium\\webdriver\\remote\\webdriver.py\u001b[0m in \u001b[0;36mfind_element_by_link_text\u001b[1;34m(self, link_text)\u001b[0m\n\u001b[0;32m    566\u001b[0m             \u001b[0mstacklevel\u001b[0m\u001b[1;33m=\u001b[0m\u001b[1;36m2\u001b[0m\u001b[1;33m,\u001b[0m\u001b[1;33m\u001b[0m\u001b[1;33m\u001b[0m\u001b[0m\n\u001b[0;32m    567\u001b[0m         )\n\u001b[1;32m--> 568\u001b[1;33m         \u001b[1;32mreturn\u001b[0m \u001b[0mself\u001b[0m\u001b[1;33m.\u001b[0m\u001b[0mfind_element\u001b[0m\u001b[1;33m(\u001b[0m\u001b[0mby\u001b[0m\u001b[1;33m=\u001b[0m\u001b[0mBy\u001b[0m\u001b[1;33m.\u001b[0m\u001b[0mLINK_TEXT\u001b[0m\u001b[1;33m,\u001b[0m \u001b[0mvalue\u001b[0m\u001b[1;33m=\u001b[0m\u001b[0mlink_text\u001b[0m\u001b[1;33m)\u001b[0m\u001b[1;33m\u001b[0m\u001b[1;33m\u001b[0m\u001b[0m\n\u001b[0m\u001b[0;32m    569\u001b[0m \u001b[1;33m\u001b[0m\u001b[0m\n\u001b[0;32m    570\u001b[0m     \u001b[1;32mdef\u001b[0m \u001b[0mfind_elements_by_link_text\u001b[0m\u001b[1;33m(\u001b[0m\u001b[0mself\u001b[0m\u001b[1;33m,\u001b[0m \u001b[0mtext\u001b[0m\u001b[1;33m)\u001b[0m \u001b[1;33m->\u001b[0m \u001b[0mWebElement\u001b[0m\u001b[1;33m:\u001b[0m\u001b[1;33m\u001b[0m\u001b[1;33m\u001b[0m\u001b[0m\n",
      "\u001b[1;32m~\\AppData\\Local\\Programs\\Python\\Python310\\lib\\site-packages\\selenium\\webdriver\\remote\\webdriver.py\u001b[0m in \u001b[0;36mfind_element\u001b[1;34m(self, by, value)\u001b[0m\n\u001b[0;32m   1242\u001b[0m             \u001b[0mvalue\u001b[0m \u001b[1;33m=\u001b[0m \u001b[1;34m'[name=\"%s\"]'\u001b[0m \u001b[1;33m%\u001b[0m \u001b[0mvalue\u001b[0m\u001b[1;33m\u001b[0m\u001b[1;33m\u001b[0m\u001b[0m\n\u001b[0;32m   1243\u001b[0m \u001b[1;33m\u001b[0m\u001b[0m\n\u001b[1;32m-> 1244\u001b[1;33m         return self.execute(Command.FIND_ELEMENT, {\n\u001b[0m\u001b[0;32m   1245\u001b[0m             \u001b[1;34m'using'\u001b[0m\u001b[1;33m:\u001b[0m \u001b[0mby\u001b[0m\u001b[1;33m,\u001b[0m\u001b[1;33m\u001b[0m\u001b[1;33m\u001b[0m\u001b[0m\n\u001b[0;32m   1246\u001b[0m             'value': value})['value']\n",
      "\u001b[1;32m~\\AppData\\Local\\Programs\\Python\\Python310\\lib\\site-packages\\selenium\\webdriver\\remote\\webdriver.py\u001b[0m in \u001b[0;36mexecute\u001b[1;34m(self, driver_command, params)\u001b[0m\n\u001b[0;32m    422\u001b[0m         \u001b[0mresponse\u001b[0m \u001b[1;33m=\u001b[0m \u001b[0mself\u001b[0m\u001b[1;33m.\u001b[0m\u001b[0mcommand_executor\u001b[0m\u001b[1;33m.\u001b[0m\u001b[0mexecute\u001b[0m\u001b[1;33m(\u001b[0m\u001b[0mdriver_command\u001b[0m\u001b[1;33m,\u001b[0m \u001b[0mparams\u001b[0m\u001b[1;33m)\u001b[0m\u001b[1;33m\u001b[0m\u001b[1;33m\u001b[0m\u001b[0m\n\u001b[0;32m    423\u001b[0m         \u001b[1;32mif\u001b[0m \u001b[0mresponse\u001b[0m\u001b[1;33m:\u001b[0m\u001b[1;33m\u001b[0m\u001b[1;33m\u001b[0m\u001b[0m\n\u001b[1;32m--> 424\u001b[1;33m             \u001b[0mself\u001b[0m\u001b[1;33m.\u001b[0m\u001b[0merror_handler\u001b[0m\u001b[1;33m.\u001b[0m\u001b[0mcheck_response\u001b[0m\u001b[1;33m(\u001b[0m\u001b[0mresponse\u001b[0m\u001b[1;33m)\u001b[0m\u001b[1;33m\u001b[0m\u001b[1;33m\u001b[0m\u001b[0m\n\u001b[0m\u001b[0;32m    425\u001b[0m             response['value'] = self._unwrap_value(\n\u001b[0;32m    426\u001b[0m                 response.get('value', None))\n",
      "\u001b[1;32m~\\AppData\\Local\\Programs\\Python\\Python310\\lib\\site-packages\\selenium\\webdriver\\remote\\errorhandler.py\u001b[0m in \u001b[0;36mcheck_response\u001b[1;34m(self, response)\u001b[0m\n\u001b[0;32m    245\u001b[0m                 \u001b[0malert_text\u001b[0m \u001b[1;33m=\u001b[0m \u001b[0mvalue\u001b[0m\u001b[1;33m[\u001b[0m\u001b[1;34m'alert'\u001b[0m\u001b[1;33m]\u001b[0m\u001b[1;33m.\u001b[0m\u001b[0mget\u001b[0m\u001b[1;33m(\u001b[0m\u001b[1;34m'text'\u001b[0m\u001b[1;33m)\u001b[0m\u001b[1;33m\u001b[0m\u001b[1;33m\u001b[0m\u001b[0m\n\u001b[0;32m    246\u001b[0m             \u001b[1;32mraise\u001b[0m \u001b[0mexception_class\u001b[0m\u001b[1;33m(\u001b[0m\u001b[0mmessage\u001b[0m\u001b[1;33m,\u001b[0m \u001b[0mscreen\u001b[0m\u001b[1;33m,\u001b[0m \u001b[0mstacktrace\u001b[0m\u001b[1;33m,\u001b[0m \u001b[0malert_text\u001b[0m\u001b[1;33m)\u001b[0m  \u001b[1;31m# type: ignore[call-arg]  # mypy is not smart enough here\u001b[0m\u001b[1;33m\u001b[0m\u001b[1;33m\u001b[0m\u001b[0m\n\u001b[1;32m--> 247\u001b[1;33m         \u001b[1;32mraise\u001b[0m \u001b[0mexception_class\u001b[0m\u001b[1;33m(\u001b[0m\u001b[0mmessage\u001b[0m\u001b[1;33m,\u001b[0m \u001b[0mscreen\u001b[0m\u001b[1;33m,\u001b[0m \u001b[0mstacktrace\u001b[0m\u001b[1;33m)\u001b[0m\u001b[1;33m\u001b[0m\u001b[1;33m\u001b[0m\u001b[0m\n\u001b[0m\u001b[0;32m    248\u001b[0m \u001b[1;33m\u001b[0m\u001b[0m\n\u001b[0;32m    249\u001b[0m     \u001b[1;32mdef\u001b[0m \u001b[0m_value_or_default\u001b[0m\u001b[1;33m(\u001b[0m\u001b[0mself\u001b[0m\u001b[1;33m,\u001b[0m \u001b[0mobj\u001b[0m\u001b[1;33m:\u001b[0m \u001b[0mMapping\u001b[0m\u001b[1;33m[\u001b[0m\u001b[0m_KT\u001b[0m\u001b[1;33m,\u001b[0m \u001b[0m_VT\u001b[0m\u001b[1;33m]\u001b[0m\u001b[1;33m,\u001b[0m \u001b[0mkey\u001b[0m\u001b[1;33m:\u001b[0m \u001b[0m_KT\u001b[0m\u001b[1;33m,\u001b[0m \u001b[0mdefault\u001b[0m\u001b[1;33m:\u001b[0m \u001b[0m_VT\u001b[0m\u001b[1;33m)\u001b[0m \u001b[1;33m->\u001b[0m \u001b[0m_VT\u001b[0m\u001b[1;33m:\u001b[0m\u001b[1;33m\u001b[0m\u001b[1;33m\u001b[0m\u001b[0m\n",
      "\u001b[1;31mNoSuchElementException\u001b[0m: Message: no such element: Unable to locate element: {\"method\":\"link text\",\"selector\":\"#zg-center-div > div.a-row.a-spacing-top-mini > div > ul > li.a-normal > a\"}\n  (Session info: chrome=97.0.4692.99)\nStacktrace:\nBacktrace:\n\tOrdinal0 [0x00FFFDC3+2555331]\n\tOrdinal0 [0x00F977F1+2127857]\n\tOrdinal0 [0x00E92E08+1060360]\n\tOrdinal0 [0x00EBE49E+1238174]\n\tOrdinal0 [0x00EBE69B+1238683]\n\tOrdinal0 [0x00EE9252+1413714]\n\tOrdinal0 [0x00ED7B54+1342292]\n\tOrdinal0 [0x00EE75FA+1406458]\n\tOrdinal0 [0x00ED7976+1341814]\n\tOrdinal0 [0x00EB36B6+1193654]\n\tOrdinal0 [0x00EB4546+1197382]\n\tGetHandleVerifier [0x01199622+1619522]\n\tGetHandleVerifier [0x0124882C+2336844]\n\tGetHandleVerifier [0x010923E1+541697]\n\tGetHandleVerifier [0x01091443+537699]\n\tOrdinal0 [0x00F9D18E+2150798]\n\tOrdinal0 [0x00FA1518+2168088]\n\tOrdinal0 [0x00FA1660+2168416]\n\tOrdinal0 [0x00FAB330+2208560]\n\tBaseThreadInitThunk [0x76E86A14+36]\n\tRtlInitializeExceptionChain [0x7731A9EF+143]\n\tRtlInitializeExceptionChain [0x7731A9BA+90]\n"
     ]
    }
   ],
   "source": [
    "import time\n",
    "for tag in tags:\n",
    "    rank = tag.select('span.zg-badge-text')[0].text\n",
    "    name = tag.select('div.p13n-sc-truncated')[0].text\n",
    "    comment = tag.select('a')[2].text\n",
    "    price = tag.select('a')[3].text\n",
    "    print('rank :', rank)\n",
    "    print('name :', name)\n",
    "    print('comment', comment)\n",
    "    print('price', price)\n",
    "\n",
    "move_path = '#zg-center-div > div.a-row.a-spacing-top-mini > div > ul > li.a-normal > a'\n",
    "driver.find_element_by_link_text(move_path).click()\n",
    "time.sleep(5)\n",
    "\n",
    "html = driver.page_source\n",
    "soup = BeautifulSoup(html, 'html.parser')\n",
    "path = '#zg-ordered-list > li'\n",
    "tags = soup.select(path)\n",
    "for tag in tags:\n",
    "    rank = tag.select('span.zg-badge-text')[0].text\n",
    "    name = tag.select('div.p13n-sc-truncated')[0].text\n",
    "    comment = tag.select('a')[2].text\n",
    "    price = tag.select('a')[3].text\n",
    "    print('rank :', rank)\n",
    "    print('name :', name)\n",
    "    print('comment', comment)\n",
    "    print('price', price)\n"
   ]
  },
  {
   "cell_type": "code",
   "execution_count": 36,
   "metadata": {},
   "outputs": [
    {
     "name": "stdout",
     "output_type": "stream",
     "text": [
      "rank : #1\n",
      "name : Frigidaire EFIC-B-SS Ice Maker, Black Stainless Steel\n",
      "comment : 452\n",
      "price : 2 offers from $89.98\n",
      "rank : #2\n",
      "name : Silonn Ice Makers Countertop, 9 Cubes Ready in 6 Mins, 26lbs in 24Hrs, Self-Cleaning Ice…\n",
      "comment : 1,635\n",
      "price : $316.98 - $317.00\n",
      "rank : #3\n",
      "name : Frigidaire EFIC189-Silver Compact Ice Maker, 26 lb per Day, Silver\n",
      "comment : 8,433\n",
      "price : $129.99\n",
      "rank : #4\n",
      "name : AGLUCKY Ice Maker Machine for Countertop, Portable Ice Cube Makers, Make 26 lbs ice in…\n",
      "comment : 10,739\n",
      "price : 3 offers from $110.49\n",
      "rank : #5\n",
      "name : GE Profile Opal | Countertop Nugget Ice Maker with Side Tank | Portable Ice Machine with…\n",
      "comment : 15,109\n",
      "price : 9 offers from $412.49\n",
      "rank : #6\n",
      "name : 2-Pack Ice Machine Cleaner and Descaler 16 fl oz, Nickel Safe Descaler | Ice Maker Cleaner…\n",
      "comment : 775\n",
      "price : $19.99 - $44.99\n",
      "rank : #7\n",
      "name : OxiClean Gel Sticks - 6.2 oz - 2 pk by OxiClean\n",
      "comment : 289\n",
      "price : $15.69\n",
      "rank : #8\n",
      "name : Midea MRU03M2ABB Upright Freezer Large Black, 3.0 Cubic Feet\n",
      "comment : 12,134\n",
      "price : $157.55 - $420.00\n",
      "rank : #9\n",
      "name : Arctic King 5 cu ft Chest Freezer for Your House, Garage, Basement, Apartment, Kitchen,…\n",
      "comment : 6,933\n",
      "price : 112 offers from $199.00\n",
      "rank : #10\n",
      "name : Arctic King Chest Freezer 5 cu ft (Black)\n",
      "comment : 229\n",
      "price : 72 offers from $207.88\n",
      "rank : #11\n",
      "name : Giantex Portable Mini Compact Twin Tub Washing Machine 17.6lbs Washer Spain…\n",
      "comment : 10,870\n",
      "price : 1 offer from $199.99\n",
      "rank : #12\n",
      "name : Broan-NuTone 412101 Non-Ducted Ductless Range Hood with Lights Exhaust Fan for…\n",
      "comment : 12,050\n",
      "price : $42.84 - $312.33\n",
      "rank : #13\n",
      "name : Euhomy Ice Maker Machine Countertop,26 lbs in 24 Hours,9 Cubes Ready in 6 Mins, Electric…\n",
      "comment : 8,979\n",
      "price : $129.99\n",
      "rank : #14\n",
      "name : Dreamiracle Ice Maker Machine Countertop, 26 lbs in 24 Hours, Self-cleaning Ice Maker…\n",
      "comment : 188\n",
      "price : $129.99\n",
      "rank : #15\n",
      "name : Midea MRU03M2ABB Upright Freezer Large Black, 3.0 Cubic Feet\n",
      "comment : 12,134\n",
      "price : 3 offers from $183.08\n",
      "rank : #16\n",
      "name : SUPER DEAL Compact Mini Twin Tub Washing Machine, Portable Laundry Washer w/Wash…\n",
      "comment : 7,877\n",
      "price : 1 offer from $163.99\n",
      "rank : #17\n",
      "name : COMFEE’ 1.6 Cu.ft Portable Washing Machine, 11lbs Capacity Fully Automatic Compact…\n",
      "comment : 2,779\n",
      "price : $323.51 - $658.00\n",
      "rank : #18\n",
      "name : Broan-NuTone F403008 Two-Speed Four-Way Convertible Range Hood, 30-Inch, Almond\n",
      "comment : 6,548\n",
      "price : $51.80 - $305.24\n",
      "rank : #19\n",
      "name : Broan-NuTone 30-inch Under-Cabinet Convertible Range Hood with 2-Speed…\n",
      "comment : 1,478\n",
      "price : $49.98 - $134.66\n",
      "rank : #20\n",
      "name : Portable Washing Machine Mini Washing 3in1 Dishwashers Mini Lights Ultrasonic Waves…\n",
      "comment : 98\n",
      "price : $22.99 - $25.99\n",
      "rank : #21\n",
      "name : Frigidaire EFIC452-SSBLACK XL Maker, Makes 40 Lbs. of Clear Square Ice Cubes A Day,…\n",
      "comment : 1,913\n",
      "price : $193.89 - $274.27\n",
      "rank : #22\n",
      "name : Whynter CUF-110B Energy Star 1.1 Cubic Feet Upright Lock, Black Freezer\n",
      "comment : 4,819\n",
      "price : $177.51 - $1,000.00\n",
      "rank : #23\n",
      "name : Frigidaire EFIC121-SSBLACK Ice Maker, Black Stainless\n",
      "comment : 854\n",
      "price : $140.00 - $299.99\n",
      "rank : #24\n",
      "name : Frigidaire EFIC237 Countertop Crunchy Chewable Nugget Ice Maker, 44lbs per Day,…\n",
      "comment : 46\n",
      "price : 6 offers from $255.53\n",
      "rank : #25\n",
      "name : EdgeStar DWP62SV 6 Place Setting Energy Star Rated Portable Countertop Dishwasher…\n",
      "comment : 717\n",
      "price : $299.00\n",
      "rank : #26\n",
      "name : Broan-NuTone SP3004 Reversible Stainless Steel Backsplash Range Hood Wall Shield for…\n",
      "comment : 2,239\n",
      "price : $67.49\n",
      "rank : #27\n",
      "name : Arctic King 7 cu ft Chest Freezer, Black\n",
      "comment : 348\n",
      "price : 48 offers from $243.98\n",
      "rank : #28\n",
      "name : Frigidaire EFR341, 3.2 cu ft 2 Door Fridge and Freezer, Platinum Series, Stainless Steel,…\n",
      "comment : 938\n",
      "price : $329.82 - $699.99\n",
      "rank : #29\n",
      "name : Oline Ice Maker Machine, Automatic Self-Cleaning Portable Electric Countertop Ice…\n",
      "comment : 730\n",
      "price : $99.95 - $109.95\n",
      "rank : #30\n",
      "name : COSTWAY Mini Washing Machine with Spin Dryer, Washing Capacity 5.5lbs, Electric…\n",
      "comment : 3,668\n",
      "price : $102.99\n",
      "rank : #31\n",
      "name : VIVOHOME Electric Portable Compact Countertop Automatic Ice Cube Maker…\n",
      "comment : 4,922\n",
      "price : 4 offers from $119.33\n",
      "rank : #32\n",
      "name : COMFEE' Portable Washing Machine, 0.9 cu.ft Compact Washer With LED Display, 5 Wash…\n",
      "comment : 1,989\n",
      "price : $249.00 - $429.99\n",
      "rank : #33\n",
      "name : Wizisa Ice Maker Machine for Countertop, 9 Bullet Ice Cubes Ready in 6 Minutes, 26lbs in…\n",
      "comment : 390\n",
      "price : $112.99\n",
      "rank : #34\n",
      "name : Cosmo COS-5MU30 30 in. Under Cabinet Range Hood Ductless Convertible Duct, Slim…\n",
      "comment : 5,003\n",
      "price : $129.95 - $273.82\n",
      "rank : #35\n",
      "name : COSTWAY Compact Laundry Dryer, 110V Electric Portable Clothes Dryer with Stainless…\n",
      "comment : 1,814\n",
      "price : 1 offer from $279.99\n",
      "rank : #36\n",
      "name : BANGSON Portable Washing Machine, 17.6 lbs Washer(11Lbs) and Spinner(6.6Lbs), Mini…\n",
      "comment : 364\n",
      "price : $139.99 - $172.98\n",
      "rank : #37\n",
      "name : Igloo ICEB26AQ Automatic Portable Electric Countertop Ice Maker Machine, 26 Pounds in…\n",
      "comment : 7,661\n",
      "price : $149.99 - $285.00\n",
      "rank : #38\n",
      "name : CROWNFUL Ice Maker Countertop Machine, 9 Ice Cubes Ready in 8 Minutes, 26lbs Bullet…\n",
      "comment : 3,963\n",
      "price : 3 offers from $89.99\n",
      "rank : #39\n",
      "name : BLACK & DECKER BPWM09W Portable Washer\n",
      "comment : 1,461\n",
      "price : $253.33\n",
      "rank : #40\n",
      "name : Frigidaire Counter Top Ice Maker, Produces 26 pounds Ice per Day, Stainless Steel with…\n",
      "comment : 282\n",
      "price : 4 offers from $91.08\n",
      "rank : #41\n",
      "name : KOBE Range Hoods INX2930SQBF-500-1 Built-In/Insert Range Hood, 30\"\n",
      "comment : 429\n",
      "price : $287.79 - $946.00\n",
      "rank : #42\n",
      "name : Deco Rapid Portable Automatic Electric Countertop Ice Maker - 6 Great Colors…\n",
      "comment : 1,454\n",
      "price : $109.99 - $129.99\n",
      "rank : #43\n",
      "name : AIRMSEN AE-TDQR03 Portable Countertop Dishwasher, Compact Mini Dishwasher with 5…\n",
      "comment : 103\n",
      "price : 1 offer from $359.99\n",
      "rank : #44\n",
      "name : Cosmo 668ICS750 30 in. Island Mount Range Hood with 380 CFM, Soft Touch Controls,…\n",
      "comment : 1,478\n",
      "price : $382.21 - $615.38\n",
      "rank : #45\n",
      "name : Cosmo 63175S 30 in. Wall Mount Range Hood with Ductless Convertible Duct (additional…\n",
      "comment : 1,104\n",
      "price : $249.99\n",
      "rank : #46\n",
      "name : Upstreman 3.2 Cu.Ft Mini Fridge with Freezer,2 door, Adjustable Thermostat, Low noise,…\n",
      "comment : 3\n",
      "price : 1 offer from $249.97\n",
      "rank : #47\n",
      "name : HCK44 Power Cord Kit, Compatible with Broan, Also Compatible with Whirlpool W10831110,…\n",
      "comment : 78\n",
      "price : $12.91\n",
      "rank : #48\n",
      "name : Refrigerator Garage Heater Kit for Frigidaire Kenmore Refrigerator 5303918301…\n",
      "comment : 575\n",
      "price : $15.99\n",
      "rank : #49\n",
      "name : Countertop Ice Maker Machine Portable, Self Cleaning Function, Mini Ice Makers, Make 26…\n",
      "comment : 2,068\n",
      "price : 1 offer from $99.99\n",
      "rank : #50\n",
      "name : The Laundry Alternative, WonderWash, Portable Washing Machine, Mini Washer, Compact and…\n",
      "comment : 4,214\n",
      "price : $69.95 - $109.97\n",
      "rank : #51\n",
      "name : ICE2 F2WC9I1 Cap Ice Maker Compatible with ice2 f2wc9i1 W10565350, W10480323 (3-pack)\n",
      "comment : 24\n",
      "price : $69.95 - $109.97\n",
      "rank : #52\n",
      "name : 5cf Chest Freezer Deep 5 Cu Ft Compact Dorm Upright Apartment Home Food Storage…\n",
      "comment : 2,522\n",
      "price : 66 offers from $208.50\n",
      "rank : #53\n",
      "name : Igloo Automatic Portable Electric Countertop Ice Maker Machine, 26 Pounds in 24 Hours, 9…\n",
      "comment : 2,398\n",
      "price : $134.99 - $262.36\n",
      "rank : #54\n",
      "name : Kismile Counter top Ice Maker Machine with Self-Cleaning, 26LBS/24H Compact…\n",
      "comment : 3,449\n",
      "price : $129.99 - $144.99\n",
      "rank : #55\n",
      "name : Frigidaire EFRF696-AMZ Upright Freezer 6.5 cu ft Stainless Platinum Design Series\n",
      "comment : 822\n",
      "price : 2 offers from $199.77\n",
      "rank : #56\n",
      "name : Broan-NuTone 403023 B000UW02A6 ADA Capable Under-Cabinet Range Hood, 30 Inch,…\n",
      "comment : 1,166\n",
      "price : $53.00\n",
      "rank : #57\n",
      "name : Ice Maker Portable Ice Maker Countertop Ice Maker Machine for Home/Office/Camping…\n",
      "comment : 445\n",
      "price : 1 offer from $118.77\n",
      "rank : #58\n",
      "name : Cosmo 5U30 30 in. Under Cabinet Range Hood with Ducted / Ductless Convertible Slim…\n",
      "comment : 1,816\n",
      "price : $138.99\n",
      "rank : #59\n",
      "name : Euhomy Ice Maker Machine Countertop, 40Lbs/24H Auto Self-Cleaning, 24 pcs Ice…\n",
      "comment : 4,107\n",
      "price : $199.99 - $249.99\n",
      "rank : #60\n",
      "name : Frigidaire FFEC3025US 30 Inch Electric Smoothtop Style Cooktop with 4 Elements,…\n",
      "comment : 35\n",
      "price : $429.00\n",
      "rank : #61\n",
      "name : Broan-NuTone LB30 Box Hood Liner for Kitchen Range Hoods, Silver, 30\"\n",
      "comment : 529\n",
      "price : 17 offers from $51.99\n",
      "rank : #62\n",
      "name : FRIGIDAIRE EFIC235-AMZ Countertop Crunchy Chewable Nugget Ice Maker, 44lbs per Day,…\n",
      "comment : 1,710\n",
      "price : 12 offers from $233.43\n",
      "rank : #63\n",
      "name : Broan-NuTone S97016565 Heating Element for Heater\n",
      "comment : 772\n",
      "price : $35.10\n",
      "rank : #64\n",
      "name : Mini Washing Machine Ultrasonic Turbine Washing Machine Portable Turbo Washer for…\n",
      "comment : 93\n",
      "price : $23.66\n",
      "rank : #65\n",
      "name : CROWNFUL Ice Maker Machine for Countertop, 9 Bullet Ice Cubes S/L Ready in 7 Minutes,…\n",
      "comment : 7,418\n",
      "price : 15 offers from $85.99\n",
      "rank : #66\n",
      "name : Dreamiracle Ice Maker Machine for Countertop, 33 lbs Bullet Ice Cube in 24H, 9 Ice Cubes…\n",
      "comment : 1,420\n",
      "price : 4 offers from $219.99\n",
      "rank : #67\n",
      "name : Kenmore Top-Freezer Refrigerator with LED Lighting and 20.8 Cubic Ft. Total Capacity,…\n",
      "comment : 259\n",
      "price : 1 offer from $659.12\n",
      "rank : #68\n",
      "name : Broan-NuTone Broan Light Lens, White\n",
      "comment : 1,475\n",
      "price : $12.95\n",
      "rank : #69\n",
      "name : Winia WTE18HSBMD 18 Cu. Ft. Top Mount Refrigerator With Factory Installed Ice Maker…\n",
      "comment : 2\n",
      "price : 1 offer from $534.13\n",
      "rank : #70\n",
      "name : IKTCH 30 inch Built-in/Insert Range Hood with 900 CFM, Ducted/Ductless Convertible Duct,…\n",
      "comment : 365\n",
      "price : $299.00 - $345.00\n",
      "rank : #71\n",
      "name : Hauslane | Chef Series 30\" PS18 Under Cabinet Range Hood, Matte Black | Pro Performance |…\n",
      "comment : 1,607\n",
      "price : 2 offers from $399.99\n",
      "rank : #72\n",
      "name : BROAN NuTone BCSQ130SS Three-Speed Glacier Under-Cabinet Range Hood with LED…\n",
      "comment : 312\n",
      "price : $168.00 - $415.99\n",
      "rank : #73\n",
      "name : TRUSTECH Ice Maker Machine for Countertop, Self-Cleaning Function, 26Lbs/24H Portable…\n",
      "comment : 2,207\n",
      "price : 6 offers from $93.59\n",
      "rank : #74\n",
      "name : Euhomy Mini Freezer Countertop, 1.1 Cubic Feet, Single Door Compact Upright Freezer…\n",
      "comment : 3,414\n",
      "price : $169.99 - $259.99\n",
      "rank : #75\n",
      "name : Ice Maker Countertop Machine, 9 Bullet Ice Cubes Ready in 6 Mins, 22lbs Ice Cubes in…\n",
      "comment : 82\n",
      "price : 2 offers from $120.99\n",
      "rank : #76\n",
      "name : Galanz GLR74BRDR12 Retro Bottom Mount Refrigerator, Adjustable Mechanical…\n",
      "comment : 1,171\n",
      "price : $654.00 - $1,698.88\n",
      "rank : #77\n",
      "name : XtremepowerUS Deluxe Propane Gas Range Stove 2 Burner Stainless Steel Cooktop Auto…\n",
      "comment : 426\n",
      "price : $89.95 - $94.95\n",
      "rank : #78\n",
      "name : Frigidaire FGIC3066TB Gallery 30\" Electric Induction Cooktop, Built-in 4-Burner,…\n",
      "comment : 500\n",
      "price : $889.00 - $1,949.00\n",
      "rank : #79\n",
      "name : Broan-NuTone BUEZ230SS Broan Economy UC 190 CFM 30N Stainless Under Cabinet Range…\n",
      "comment : 1,348\n",
      "price : $50.21 - $199.00\n",
      "rank : #80\n",
      "name : The Laundry Alternative - Ninja Portable Mini 3200 RPM Centrifugal Spin Clothes Dryer…\n",
      "comment : 612\n",
      "price : 5 offers from $158.00\n",
      "rank : #81\n",
      "name : Garatic Portable Compact Mini Twin Tub Washing Machine w/Wash and Spin Cycle,…\n",
      "comment : 2,677\n",
      "price : $159.99\n",
      "rank : #82\n",
      "name : Shark Industrial 25 FT Stainless Steel Braided Ice Maker Hose with 1/4\" Comp by 1/4\"…\n",
      "comment : 549\n",
      "price : $22.95\n",
      "rank : #83\n",
      "name : Broan-NuTone 413623 Broan 41000, 36-Inch, Black\n",
      "comment : 1,565\n",
      "price : $65.00 - $205.29\n",
      "rank : #84\n",
      "name : Portable Mini Washing Machine,Ultrasonic Turbo Washing Machine 3 In 1,Portable…\n",
      "comment : 4\n",
      "price : $20.98\n",
      "rank : #85\n",
      "name : Electric Cooktop, thermomate 24 Inch Built-in Radiant Electric Stove Top, 240V Ceramic…\n",
      "comment : 430\n",
      "price : $249.99 - $499.99\n",
      "rank : #86\n",
      "name : ZenStyle Portable Washer Compact Twin Tub 9.9 LB Mini Top Load Washing Machine…\n",
      "comment : 647\n",
      "price : 1 offer from $115.99\n",
      "rank : #87\n",
      "name : Gas Stove Gas Cooktop 2 Burners,12 Inches Portable Stainless Steel Built-in Gas Hob LPG…\n",
      "comment : 401\n",
      "price : $119.99\n",
      "rank : #88\n",
      "name : Clothes Dryer Portable Travel Mini 900W dryer machine,Portable dryer for apartments,New…\n",
      "comment : 394\n",
      "price : $59.99\n",
      "rank : #89\n",
      "name : I'SMARTMOON Mini-Fridge-Stand 4 Strong Feet，Adjustable Dolly Washing Machine…\n",
      "comment : 137\n",
      "price : $26.79\n",
      "rank : #90\n",
      "name : Cosmo COS-668AS750 30 in. Wall Mount Range Hood with 380 CFM, Curved Glass,…\n",
      "comment : 586\n",
      "price : $256.53\n",
      "rank : #91\n",
      "name : Broan-NuTone BCSD130BL Glacier Range Hood with Light, Exhaust Fan for Under Cabinet,…\n",
      "comment : 243\n",
      "price : $129.92\n",
      "rank : #92\n",
      "name : Ultra Durable 5303918301 Refrigerator Garage Heater Kit - Refrigerator Garage Heater Kit…\n",
      "comment : 181\n",
      "price : $14.27\n",
      "rank : #93\n",
      "name : Range Hood Insert 30 Inch,Vent Hood Insert,Ducted/Ductless Convertible Range…\n",
      "comment : 126\n",
      "price : $319.99 - $369.99\n",
      "rank : #94\n",
      "name : SUPER DEAL Portable Compact Washing Machine 9.9 LB Mini Twin Tub Top Load…\n",
      "comment : 3,898\n",
      "price : 1 offer from $114.59\n",
      "rank : #95\n",
      "name : East doll Portable Washing Machine for Baby Clothes, Underwear or Small Items, Foldable…\n",
      "comment : 336\n",
      "price : $80.99\n",
      "rank : #96\n",
      "name : Prime Home Direct Ice Makers Countertop - Ice Maker Machine for Counter top Makes Ice…\n",
      "comment : 1,978\n",
      "price : $154.88\n",
      "rank : #97\n",
      "name : EasyGoProducts Washing Wand Hand Powered For Camping Apts and More, Portable…\n",
      "comment : 1,733\n",
      "price : $19.79\n",
      "rank : #98\n",
      "name : BROAN NuTone BWP2244SS Convertible Wall-Mount LED Lights Pyramidal Chimney Range…\n",
      "comment : 199\n",
      "price : $340.00 - $809.95\n",
      "rank : #99\n",
      "name : ZENY Portable Mini Laundry Washing Machine Small Semi-Automatic Compact Washer Spin…\n",
      "comment : 662\n",
      "price : 1 offer from $87.99\n",
      "rank : #100\n",
      "name : Fluidmaster 12IM72 Braided Stainless Steel Ice Maker Connector Water Line with Dual 1/4…\n",
      "comment : 1,380\n",
      "price : $17.54 - $31.79\n"
     ]
    }
   ],
   "source": [
    "# url로 페이지 움직여서하는 방법\n",
    "driver = webdriver.Chrome()\n",
    "for i in range(1,3):\n",
    "    url = 'https://www.amazon.com/Best-Sellers-Appliances/zgbs/appliances/ref=zg_bs_pg_2?_encoding=UTF8&pg={}'\n",
    "    url = url.format(i)\n",
    "    driver.get(url)\n",
    "    time.sleep(5)\n",
    "    html = driver.page_source\n",
    "    soup = BeautifulSoup(html, 'html.parser')\n",
    "    path = '#zg-ordered-list > li'\n",
    "    tags = soup.select(path)\n",
    "    for tag in tags:\n",
    "        rank = tag.select('span.zg-badge-text')[0].text\n",
    "        name = tag.select('div.p13n-sc-truncated')[0].text\n",
    "        comment = tag.select('a')[2].text\n",
    "        try:price = tag.select('a')[3].text\n",
    "        except:pass\n",
    "        print('rank :', rank)\n",
    "        print('name :', name)\n",
    "        print('comment :', comment)\n",
    "        if price:print('price :', price)\n"
   ]
  }
 ],
 "metadata": {
  "interpreter": {
   "hash": "47e981e3ce92cc38a76b75838fce2c8c5d6bdd16f626c3fb6391f5ba571928ac"
  },
  "kernelspec": {
   "display_name": "Python 3.10.1 64-bit (system)",
   "language": "python",
   "name": "python3"
  },
  "language_info": {
   "codemirror_mode": {
    "name": "ipython",
    "version": 3
   },
   "file_extension": ".py",
   "mimetype": "text/x-python",
   "name": "python",
   "nbconvert_exporter": "python",
   "pygments_lexer": "ipython3",
   "version": "3.10.1"
  },
  "orig_nbformat": 4
 },
 "nbformat": 4,
 "nbformat_minor": 2
}
