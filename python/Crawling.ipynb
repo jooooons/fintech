{
 "cells": [
  {
   "cell_type": "markdown",
   "metadata": {},
   "source": [
    "### Crawling(scraping)\n",
    "web에서 데이터를 프로그램을 통해서 가져오는 작업\n",
    "\n",
    "> web 구성하는 언어 - html, css, javascript   \n",
    "html은 웹을 구성하는 스크립트 언어   \n",
    "css는 웹을 꾸며주는 언어   \n",
    "javascript는 웹이 동적으로 작동하도록 만드는 언어   \n",
    "\n",
    "* html\n",
    "기본 구조는 태그 - 여는 태그(<)와 닫는 태그(/>)   \n",
    "태그 계층구조 부모태그, 자식태그   \n",
    "<head> ..... </head> : 웹의 정보를 담고 있는 태그   \n",
    "<body> ..... </body> : 웹에서 눈으로 보는 내용이 들어있는 태그\n"
   ]
  },
  {
   "cell_type": "code",
   "execution_count": null,
   "metadata": {},
   "outputs": [],
   "source": [
    "<!-- index.html -->\n",
    "<html>\n",
    "    <head>\n",
    "        web page meta 정보\n",
    "    </head>\n",
    "    <body>\n",
    "        웹페이지에 보여지는 컨텐츠가 들어가는 부분\n",
    "        <p>문단을 나타냅니다</p>\n",
    "        <div><h3>제목을 나타냅니다</h3></div>\n",
    "        <table border = 1>\n",
    "            <tr>\n",
    "                <td>항목</td>\n",
    "                <td>2013</td>\n",
    "                <td>2014</td>\n",
    "            </tr>\n",
    "            <tr>\n",
    "                <td>항목</td>\n",
    "                <td>2013</td>\n",
    "                <td>2014</td>\n",
    "            </tr>\n",
    "        </table>\n",
    "    </body>\n",
    "</html>"
   ]
  },
  {
   "cell_type": "code",
   "execution_count": null,
   "metadata": {},
   "outputs": [],
   "source": [
    "<!-- css -->\n",
    "<html>\n",
    "    <head>\n",
    "        web page meta 정보\n",
    "        <style>\n",
    "             #title {color:blue;}\n",
    "            .par{color:red;}\n",
    "        </style>\n",
    "    </head>\n",
    "    <body>\n",
    "        <p id = title> paragraph1 </p>\n",
    "        <p class = par> paragraph2 </p>\n",
    "        <div class = par> div1</div>\n",
    "    </body>\n",
    "</html>"
   ]
  },
  {
   "cell_type": "code",
   "execution_count": 13,
   "metadata": {},
   "outputs": [],
   "source": [
    "from bs4 import BeautifulSoup\n",
    "html = \"\"\"\n",
    "<html>\n",
    "    <head>\n",
    "        web page meta 정보\n",
    "    </head>\n",
    "    <body>\n",
    "        웹페이지에 보여지는 컨텐츠가 들어가는 부분\n",
    "        <p>문단을 나타냅니다</p>\n",
    "        <div><h3>제목을 나타냅니다</h3></div>\n",
    "        <table border = 1>\n",
    "            <tr>\n",
    "                <td>항목</td>\n",
    "                <td>2013</td>\n",
    "                <td>2014</td>\n",
    "            </tr>\n",
    "            <tr>\n",
    "                <td>매출액</td>\n",
    "                <td>100</td>\n",
    "                <td>200</td>\n",
    "            </tr>\n",
    "        </table>\n",
    "    </body>\n",
    "</html>\n",
    "\"\"\"\n",
    "soup = BeautifulSoup(html, 'html.parser')"
   ]
  },
  {
   "cell_type": "code",
   "execution_count": 14,
   "metadata": {},
   "outputs": [
    {
     "data": {
      "text/plain": [
       "'2013'"
      ]
     },
     "execution_count": 14,
     "metadata": {},
     "output_type": "execute_result"
    }
   ],
   "source": [
    "soup.select('td')[1].text"
   ]
  },
  {
   "cell_type": "code",
   "execution_count": 15,
   "metadata": {},
   "outputs": [
    {
     "name": "stdout",
     "output_type": "stream",
     "text": [
      "항목\n",
      "2013\n",
      "2014\n",
      "매출액\n",
      "100\n",
      "200\n"
     ]
    }
   ],
   "source": [
    "for t in soup.select('td'):\n",
    "    print(t.text)"
   ]
  },
  {
   "cell_type": "code",
   "execution_count": 28,
   "metadata": {},
   "outputs": [],
   "source": [
    "html1 = \"\"\"\n",
    "<body>\n",
    "<div>\n",
    "    <div class='snack'>\n",
    "        <p id='first'> 양파링</p>\n",
    "        <p id='second'> 새우깡</p>\n",
    "        <p> 초코파이</p>\n",
    "        <p class='sweet'> 맛동산 </p>\n",
    "        <p class='sweet'> 맛동산2 </p>\n",
    "        \n",
    "    <div class='icecream'>\n",
    "        <p> 빵빠레</p>\n",
    "        <p id='third'> 죠스바</p>\n",
    "        <p> 꼬깔콘</p>\n",
    "        <p class='sweet'> 쭈쭈바</p>\n",
    "    </div>\n",
    "</div>\n",
    "</body>\n",
    "\"\"\"\n",
    "soup = BeautifulSoup(html1, 'html.parser')"
   ]
  },
  {
   "cell_type": "code",
   "execution_count": 29,
   "metadata": {},
   "outputs": [
    {
     "name": "stdout",
     "output_type": "stream",
     "text": [
      " 양파링\n",
      " 새우깡\n",
      " 초코파이\n",
      " 맛동산 \n",
      " 맛동산2 \n",
      " 빵빠레\n",
      " 죠스바\n",
      " 꼬깔콘\n",
      " 쭈쭈바\n"
     ]
    }
   ],
   "source": [
    "# p태그의 텍스트를 모두 출력\n",
    "for t in soup.select('p'):\n",
    "    print(t.text)"
   ]
  },
  {
   "cell_type": "code",
   "execution_count": 30,
   "metadata": {},
   "outputs": [
    {
     "data": {
      "text/plain": [
       "' 양파링'"
      ]
     },
     "execution_count": 30,
     "metadata": {},
     "output_type": "execute_result"
    }
   ],
   "source": [
    "# 양파링을 출력\n",
    "soup.select('p#first')[0].text"
   ]
  },
  {
   "cell_type": "code",
   "execution_count": 31,
   "metadata": {},
   "outputs": [
    {
     "data": {
      "text/plain": [
       "' 죠스바'"
      ]
     },
     "execution_count": 31,
     "metadata": {},
     "output_type": "execute_result"
    }
   ],
   "source": [
    "# 죠스바를 출력\n",
    "soup.select('p#third')[0].text"
   ]
  },
  {
   "cell_type": "code",
   "execution_count": 33,
   "metadata": {},
   "outputs": [
    {
     "data": {
      "text/plain": [
       "' 맛동산 '"
      ]
     },
     "execution_count": 33,
     "metadata": {},
     "output_type": "execute_result"
    }
   ],
   "source": [
    "# 맛동산을 출력\n",
    "soup.select('p.sweet')[0].text"
   ]
  },
  {
   "cell_type": "code",
   "execution_count": 35,
   "metadata": {},
   "outputs": [
    {
     "data": {
      "text/plain": [
       "' 쭈쭈바'"
      ]
     },
     "execution_count": 35,
     "metadata": {},
     "output_type": "execute_result"
    }
   ],
   "source": [
    "# 쭈쭈바를 출력\n",
    "soup.select('p.sweet')[2].text"
   ]
  },
  {
   "cell_type": "code",
   "execution_count": 38,
   "metadata": {},
   "outputs": [],
   "source": [
    "# 네이버 메뉴 크롤링\n",
    "import requests\n",
    "res = requests.get('https://www.naver.com/')\n",
    "# res.text\n"
   ]
  },
  {
   "cell_type": "code",
   "execution_count": 40,
   "metadata": {},
   "outputs": [],
   "source": [
    "soup = BeautifulSoup(res.text, 'html.parser')"
   ]
  },
  {
   "cell_type": "code",
   "execution_count": 41,
   "metadata": {},
   "outputs": [],
   "source": [
    "path = '#NM_FAVORITE > div.group_nav > ul.list_nav.type_fix > li'"
   ]
  },
  {
   "cell_type": "code",
   "execution_count": 74,
   "metadata": {},
   "outputs": [
    {
     "data": {
      "text/plain": [
       "[<a class=\"tit_main fn_tit_u\" href=\"http://v.media.daum.net/v/20220119020501044?f=o\" onclick='smartLog(this, \"dc=NNS&amp;d=26XmtmA0ZgbPEoqFp6&amp;pg=1&amp;r=1&amp;p=4&amp;rc=10&amp;e1=16gmjhh-4e7TNHMCYw&amp;e3=0&amp;ext=dsid=26XmtmA0ZgbPEoqFp6\", event, {\"cpid\": {\"value\": \"16gmjhh-4e7TNHMCYw\"}});' target=\"_blank\">[투데이 窓]<b>빅</b><b>데이터</b>에서 미래를 읽는 통찰력</a>,\n",
       " <a class=\"tit_main fn_tit_u\" href=\"http://v.media.daum.net/v/20220119141604019?f=o\" onclick='smartLog(this, \"dc=NNS&amp;d=26mbzI-8Of_9iGngFO&amp;pg=1&amp;r=2&amp;p=4&amp;rc=10&amp;e1=16yZfDfR_rGcw5F-P0&amp;e3=0&amp;ext=dsid=26mbzI-8Of_9iGngFO\", event, {\"cpid\": {\"value\": \"16yZfDfR_rGcw5F-P0\"}});' target=\"_blank\">통화 방송 후 사흘.. 관심도 李 46 vs 尹 54 l <b>빅</b><b>데이터</b>랩</a>,\n",
       " <a class=\"tit_main fn_tit_u\" href=\"http://v.media.daum.net/v/20220119111204914?f=o\" onclick='smartLog(this, \"dc=NNS&amp;d=26y9ObHxq1eLbWFDEu&amp;pg=1&amp;r=3&amp;p=4&amp;rc=10&amp;e1=16yZfDfR_rGcw5F-P0&amp;e3=0&amp;ext=dsid=26y9ObHxq1eLbWFDEu\", event, {\"cpid\": {\"value\": \"16yZfDfR_rGcw5F-P0\"}});' target=\"_blank\">악재 뜨면 이슈로 맞불.. 李 이번엔 'TV토론 카드'?ㅣ<b>빅</b><b>데이터</b>랩</a>,\n",
       " <a class=\"tit_main fn_tit_u\" href=\"https://cp.news.search.daum.net/p/115217602\" onclick='smartLog(this, \"dc=NNS&amp;d=26rwlx6n9cBaL-TjJ8&amp;pg=1&amp;r=4&amp;p=4&amp;rc=10&amp;e1=16-808bNca9PmxuGza&amp;e3=0&amp;ext=dsid=26rwlx6n9cBaL-TjJ8\", event, {\"cpid\": {\"value\": \"16-808bNca9PmxuGza\"}});' target=\"_blank\">[칼럼] 올해 <b>빅</b><b>데이터</b> 정책 특화교육 디지털 전환 촉진</a>,\n",
       " <a class=\"tit_main fn_tit_u\" href=\"http://v.media.daum.net/v/20220119101925108?f=o\" onclick='smartLog(this, \"dc=NNS&amp;d=26hJOCpY9ZGIksPGsZ&amp;pg=1&amp;r=5&amp;p=4&amp;rc=10&amp;e1=16ZP4dHX8AatmWDTlF&amp;e3=0&amp;ext=dsid=26hJOCpY9ZGIksPGsZ\", event, {\"cpid\": {\"value\": \"16ZP4dHX8AatmWDTlF\"}});' target=\"_blank\">대전시, <b>빅</b><b>데이터</b> 활용 '지역사회건강지도' 구축</a>,\n",
       " <a class=\"tit_main fn_tit_u\" href=\"https://cp.news.search.daum.net/p/115196341\" onclick='smartLog(this, \"dc=NNS&amp;d=26EA-3PNZegVPnMdhO&amp;pg=1&amp;r=6&amp;p=4&amp;rc=10&amp;e1=16M4-Una5Mo5sd9wud&amp;e3=0&amp;ext=dsid=26EA-3PNZegVPnMdhO\", event, {\"cpid\": {\"value\": \"16M4-Una5Mo5sd9wud\"}});' target=\"_blank\">경기도 <b>빅</b><b>데이터</b>위원회 열고 ‘<b>데이터</b> 기반 도정혁신 방안’ 논의</a>,\n",
       " <a class=\"tit_main fn_tit_u\" href=\"https://cp.news.search.daum.net/p/115196941\" onclick='smartLog(this, \"dc=NNS&amp;d=26mK3VUZFj_ewTRyDt&amp;pg=1&amp;r=7&amp;p=4&amp;rc=10&amp;e1=16f1vm5c5x21P9AOye&amp;e3=0&amp;ext=dsid=26mK3VUZFj_ewTRyDt\", event, {\"cpid\": {\"value\": \"16f1vm5c5x21P9AOye\"}});' target=\"_blank\">경기도,도 <b>빅</b><b>데이터</b>위원회 개최…올해 경기도 마이<b>데이터</b> 플랫폼 개시</a>,\n",
       " <a class=\"tit_main fn_tit_u\" href=\"http://v.media.daum.net/v/20220119093654189?f=o\" onclick='smartLog(this, \"dc=NNS&amp;d=26gRj9OgMuKi8Wyk3f&amp;pg=1&amp;r=8&amp;p=4&amp;rc=10&amp;e1=16X5Xh1MWS7Qt1sMrW&amp;e3=0&amp;ext=dsid=26gRj9OgMuKi8Wyk3f\", event, {\"cpid\": {\"value\": \"16X5Xh1MWS7Qt1sMrW\"}});' target=\"_blank\"><b>빅</b><b>데이터</b>로 우범 지역 핀셋 관리..서초구, '예측범죄지도' 도입</a>,\n",
       " <a class=\"tit_main fn_tit_u\" href=\"http://v.media.daum.net/v/20220117061022116?f=o\" onclick='smartLog(this, \"dc=NNS&amp;d=26jwbZGr9YXbXAfeXs&amp;pg=1&amp;r=9&amp;p=4&amp;rc=10&amp;e1=16iegqg-unkCM79rj6&amp;e3=0&amp;ext=dsid=26jwbZGr9YXbXAfeXs\", event, {\"cpid\": {\"value\": \"16iegqg-unkCM79rj6\"}});' target=\"_blank\">1인 셀러부터 동네 가게 사장님까지 소상공인도 <b>빅</b><b>데이터</b> 활용 시대</a>,\n",
       " <a class=\"tit_main fn_tit_u\" href=\"http://v.media.daum.net/v/20220119111009801?f=o\" onclick='smartLog(this, \"dc=NNS&amp;d=263SLQ5WCLA1Nbmz9o&amp;pg=1&amp;r=10&amp;p=4&amp;rc=10&amp;e1=16ZP4dHX8AatmWDTlF&amp;e3=0&amp;ext=dsid=263SLQ5WCLA1Nbmz9o\", event, {\"cpid\": {\"value\": \"16ZP4dHX8AatmWDTlF\"}});' target=\"_blank\">산림청 <b>빅</b><b>데이터</b> 등 과학기술 기반 산불 대응체계 구축</a>]"
      ]
     },
     "execution_count": 74,
     "metadata": {},
     "output_type": "execute_result"
    }
   ],
   "source": [
    "lis = soup.select(path)\n",
    "lis"
   ]
  },
  {
   "cell_type": "code",
   "execution_count": null,
   "metadata": {},
   "outputs": [],
   "source": [
    "# <li>..</li> : 목록을 만드는 태그   \n",
    "# <a href='https://www.naver.com/'> 네이버 </a> : 하이퍼링크 태그"
   ]
  },
  {
   "cell_type": "code",
   "execution_count": 51,
   "metadata": {},
   "outputs": [
    {
     "name": "stdout",
     "output_type": "stream",
     "text": [
      "\n",
      "메일\n",
      " https://mail.naver.com/\n",
      "카페 https://section.cafe.naver.com/\n",
      "블로그 https://section.blog.naver.com/\n",
      "지식iN https://kin.naver.com/\n",
      "쇼핑 https://shopping.naver.com/\n",
      "쇼핑LIVE https://shoppinglive.naver.com/home\n",
      "Pay https://order.pay.naver.com/home\n",
      "\n",
      "TV\n",
      " https://tv.naver.com/\n"
     ]
    }
   ],
   "source": [
    "for li in lis:\n",
    "    print(li.text, li.select('a')[0]['href'])"
   ]
  },
  {
   "cell_type": "code",
   "execution_count": 147,
   "metadata": {},
   "outputs": [
    {
     "data": {
      "text/plain": [
       "<Response [200]>"
      ]
     },
     "execution_count": 147,
     "metadata": {},
     "output_type": "execute_result"
    }
   ],
   "source": [
    "# 다음 뉴스 크롤링\n",
    "res = requests.get('https://search.daum.net/search?w=news&nil_search=btn&DA=NTB&enc=utf8&cluster=y&cluster_page=1&q=%EB%B9%85%EB%8D%B0%EC%9D%B4%ED%84%B0')\n",
    "soup = BeautifulSoup(res.text, 'html.parser')\n",
    "path = '#newsColl > div.cont_divider > ul > li > div.wrap_cont > a'\n",
    "lis = soup.select(path)\n",
    "lis\n",
    "# for li in lis :\n",
    "#     print(li.text)\n",
    "res"
   ]
  },
  {
   "cell_type": "code",
   "execution_count": 83,
   "metadata": {},
   "outputs": [
    {
     "name": "stdout",
     "output_type": "stream",
     "text": [
      "제목 : [투데이 窓]빅데이터에서 미래를 읽는 통찰력\n",
      "URL : http://v.media.daum.net/v/20220119020501044?f=o\n",
      "제목 : 통화 방송 후 사흘.. 관심도 李 46 vs 尹 54 l 빅데이터랩\n",
      "URL : http://v.media.daum.net/v/20220119141604019?f=o\n",
      "제목 : 악재 뜨면 이슈로 맞불.. 李 이번엔 'TV토론 카드'?ㅣ빅데이터랩\n",
      "URL : http://v.media.daum.net/v/20220119111204914?f=o\n",
      "제목 : [칼럼] 올해 빅데이터 정책 특화교육 디지털 전환 촉진\n",
      "URL : https://cp.news.search.daum.net/p/115217602\n",
      "제목 : 대전시, 빅데이터 활용 '지역사회건강지도' 구축\n",
      "URL : http://v.media.daum.net/v/20220119101925108?f=o\n",
      "제목 : 경기도 빅데이터위원회 열고 ‘데이터 기반 도정혁신 방안’ 논의\n",
      "URL : https://cp.news.search.daum.net/p/115196341\n",
      "제목 : 경기도,도 빅데이터위원회 개최…올해 경기도 마이데이터 플랫폼 개시\n",
      "URL : https://cp.news.search.daum.net/p/115196941\n",
      "제목 : 빅데이터로 우범 지역 핀셋 관리..서초구, '예측범죄지도' 도입\n",
      "URL : http://v.media.daum.net/v/20220119093654189?f=o\n",
      "제목 : 1인 셀러부터 동네 가게 사장님까지 소상공인도 빅데이터 활용 시대\n",
      "URL : http://v.media.daum.net/v/20220117061022116?f=o\n",
      "제목 : 산림청 빅데이터 등 과학기술 기반 산불 대응체계 구축\n",
      "URL : http://v.media.daum.net/v/20220119111009801?f=o\n"
     ]
    }
   ],
   "source": [
    "for li in lis:\n",
    "    print(f\"제목 : {li.text}\")\n",
    "    print(f\"URL : {li['href']}\")"
   ]
  },
  {
   "cell_type": "code",
   "execution_count": 96,
   "metadata": {},
   "outputs": [
    {
     "name": "stdout",
     "output_type": "stream",
     "text": [
      "제목 : [투데이 窓]빅데이터에서 미래를 읽는 통찰력\n",
      "URL : http://v.media.daum.net/v/20220119020501044?f=o\n",
      "새 강자 그룹은 IT 기반 플랫폼을 보유한 기업들이다. 플랫폼의 강점은 데이터다. 데이터가 모이고 유통되는 곳이 바로 플랫폼이다. 데이터는 21세기 원유가 됐고 바야흐로 빅데이터 시대를 맞게 된 것이다. 새해 벽두, 애플은 새 진기록을 세웠다. 1월4일 사상 처음...\n",
      "----------------------------------------------------------------------------------------------------\n",
      "제목 : 통화 방송 후 사흘.. 관심도 李 46 vs 尹 54 l 빅데이터랩\n",
      "URL : http://v.media.daum.net/v/20220119141604019?f=o\n",
      "尹 큰 타격 없어..부정감성 안정세 SNS에 녹취 풀린 李, 파장 불투명\n",
      "----------------------------------------------------------------------------------------------------\n",
      "제목 : 악재 뜨면 이슈로 맞불.. 李 이번엔 'TV토론 카드'?ㅣ빅데이터랩\n",
      "URL : http://v.media.daum.net/v/20220119111204914?f=o\n",
      "그리고 지난 한 주간 온라인상 대선 관련 민심, 관심의 흐름은 어떻게 전개되고 있을까요. JTBC가 기획ㆍ개발한 빅데이터 분석 플랫폼 'JTBC빅데이터랩'이 실시간으로, 그리고 한 주간 누적으로 관심과 호감의 변화 양상을 추적합니다. 지난 16일 저녁 국민의힘...\n",
      "----------------------------------------------------------------------------------------------------\n",
      "제목 : [칼럼] 올해 빅데이터 정책 특화교육 디지털 전환 촉진\n",
      "URL : https://cp.news.search.daum.net/p/115217602\n",
      "[주간분석] 의혹 제보자 사망..부정감성 수직상승 TV토론·통화 TV방송 이슈 뜨며 빠른 하락 전환'김건희' 논란 촉각 세운 尹, 부정감성 안정 유지단일화 한복판 安, 3자구도 굳히기 정중동 행보\n",
      "----------------------------------------------------------------------------------------------------\n",
      "제목 : 대전시, 빅데이터 활용 '지역사회건강지도' 구축\n",
      "URL : http://v.media.daum.net/v/20220119101925108?f=o\n",
      "언급량이 늘어났습니다. 'TV토론'과 'TV방송', 이 두 키워드가 어떻게 한 주간 대선판에서 작동했는지 함께 살펴보겠습니다. JTBC빅데이터랩은 뉴스ㆍ커뮤니티ㆍ블로그 등 온라인상의 민심 동향을 추적해 분석하고 있습니다. 일주일 누적 데이터부터 보겠습니다...\n",
      "----------------------------------------------------------------------------------------------------\n",
      "제목 : 경기도 빅데이터위원회 열고 ‘데이터 기반 도정혁신 방안’ 논의\n",
      "URL : https://cp.news.search.daum.net/p/115196341\n",
      "경기도는 데이터 기반의 산업 혁신과 디지털로 전환 촉진 기반을 마련하기 위해 노력하고 있다”라며 “빅데이터위원회에서 논의된 사항을 바탕으로 데이터 기반 혁신 사업을 성공적으로 추진하기 위해 최선을 다하겠다. 그러면서 경기도는 도정의 디지털전환과...\n",
      "----------------------------------------------------------------------------------------------------\n",
      "제목 : 경기도,도 빅데이터위원회 개최…올해 경기도 마이데이터 플랫폼 개시\n",
      "URL : https://cp.news.search.daum.net/p/115196941\n",
      "흡연·음주·정신건강 등 주요지표 10개 영역 데이터 시각화 대전시 지역사회건강지도 빅데이터 시스템 / 대전시 제공 [더팩트 | 대전=최영규 기자] 대전 시민들의 주요 건강지표 테이터를 시 홈페이지에서 한 눈에 볼 수 있게 됐다. 19일 시에 따르면 2010년부터...\n",
      "----------------------------------------------------------------------------------------------------\n",
      "제목 : 빅데이터로 우범 지역 핀셋 관리..서초구, '예측범죄지도' 도입\n",
      "URL : http://v.media.daum.net/v/20220119093654189?f=o\n",
      "활용, 관리할 수 있는 ‘경기도 마이데이터 플랫폼’ 서비스를 시작한다.경기도는 1월 18일 수원시 경기도R&DB센터에서 2022년 빅데이터위원회 제1차 회의를 개최했다. 위원회에서는 위원장(공병훈 협성대 교수)을 포함해 당연직.위촉직 위원 등 총 12명이 참석한...\n",
      "----------------------------------------------------------------------------------------------------\n",
      "제목 : 1인 셀러부터 동네 가게 사장님까지 소상공인도 빅데이터 활용 시대\n",
      "URL : http://v.media.daum.net/v/20220117061022116?f=o\n",
      "활용, 관리할 수 있는 ‘경기도 마이데이터 플랫폼’ 서비스를 시작한다. 경기도는 18일 수원시 경기도R&DB센터에서 2022년 빅데이터위원회 제1차 회의를 개최했다. 위원회에서는 위원장(공병훈 협성대 교수)을 포함해 당연직·위촉직 위원 등 총 12명이 참석한...\n",
      "----------------------------------------------------------------------------------------------------\n",
      "제목 : 산림청 빅데이터 등 과학기술 기반 산불 대응체계 구축\n",
      "URL : http://v.media.daum.net/v/20220119111009801?f=o\n",
      "서울 서초구 제공. 재판매 및 DB 금지] (서울=연합뉴스) 고현실 기자 = 서울 서초구는 범죄발생 가능성이 높은 지역을 빅데이터로 예측해 시간대별로 집중 감시하는 '예측범죄지도(Predictive Crime Map) 시스템'을 전국 최초로 도입한다고 19일 밝혔다. 한국...\n",
      "----------------------------------------------------------------------------------------------------\n"
     ]
    }
   ],
   "source": [
    "pathCon = '#newsColl > div.cont_divider > ul > li > div.wrap_cont > p'\n",
    "lisCon = soup.select(pathCon)\n",
    "# for li in lisCon:\n",
    "#     print(li.text)\n",
    "for li in lis:\n",
    "    print(f\"제목 : {li.text}\")\n",
    "    print(f\"URL : {li['href']}\")\n",
    "    print(lisCon[lis.index(li)].text)\n",
    "    print(\"-\"*100)"
   ]
  },
  {
   "cell_type": "code",
   "execution_count": 95,
   "metadata": {},
   "outputs": [
    {
     "name": "stdout",
     "output_type": "stream",
     "text": [
      "제목 : [투데이 窓]빅데이터에서 미래를 읽는 통찰력\n",
      "URL : http://v.media.daum.net/v/20220119020501044?f=o\n",
      "새 강자 그룹은 IT 기반 플랫폼을 보유한 기업들이다. 플랫폼의 강점은 데이터다. 데이터가 모이고 유통되는 곳이 바로 플랫폼이다. 데이터는 21세기 원유가 됐고 바야흐로 빅데이터 시대를 맞게 된 것이다. 새해 벽두, 애플은 새 진기록을 세웠다. 1월4일 사상 처음...\n",
      "----------------------------------------------------------------------------------------------------\n",
      "제목 : 통화 방송 후 사흘.. 관심도 李 46 vs 尹 54 l 빅데이터랩\n",
      "URL : http://v.media.daum.net/v/20220119141604019?f=o\n",
      "尹 큰 타격 없어..부정감성 안정세 SNS에 녹취 풀린 李, 파장 불투명\n",
      "----------------------------------------------------------------------------------------------------\n",
      "제목 : 악재 뜨면 이슈로 맞불.. 李 이번엔 'TV토론 카드'?ㅣ빅데이터랩\n",
      "URL : http://v.media.daum.net/v/20220119111204914?f=o\n",
      "[주간분석] 의혹 제보자 사망..부정감성 수직상승 TV토론·통화 TV방송 이슈 뜨며 빠른 하락 전환'김건희' 논란 촉각 세운 尹, 부정감성 안정 유지단일화 한복판 安, 3자구도 굳히기 정중동 행보\n",
      "----------------------------------------------------------------------------------------------------\n",
      "제목 : [칼럼] 올해 빅데이터 정책 특화교육 디지털 전환 촉진\n",
      "URL : https://cp.news.search.daum.net/p/115217602\n",
      "경기도는 데이터 기반의 산업 혁신과 디지털로 전환 촉진 기반을 마련하기 위해 노력하고 있다”라며 “빅데이터위원회에서 논의된 사항을 바탕으로 데이터 기반 혁신 사업을 성공적으로 추진하기 위해 최선을 다하겠다. 그러면서 경기도는 도정의 디지털전환과...\n",
      "----------------------------------------------------------------------------------------------------\n",
      "제목 : 대전시, 빅데이터 활용 '지역사회건강지도' 구축\n",
      "URL : http://v.media.daum.net/v/20220119101925108?f=o\n",
      "흡연·음주·정신건강 등 주요지표 10개 영역 데이터 시각화 대전시 지역사회건강지도 빅데이터 시스템 / 대전시 제공 [더팩트 | 대전=최영규 기자] 대전 시민들의 주요 건강지표 테이터를 시 홈페이지에서 한 눈에 볼 수 있게 됐다. 19일 시에 따르면 2010년부터...\n",
      "----------------------------------------------------------------------------------------------------\n",
      "제목 : 경기도 빅데이터위원회 열고 ‘데이터 기반 도정혁신 방안’ 논의\n",
      "URL : https://cp.news.search.daum.net/p/115196341\n",
      "활용, 관리할 수 있는 ‘경기도 마이데이터 플랫폼’ 서비스를 시작한다.경기도는 1월 18일 수원시 경기도R&DB센터에서 2022년 빅데이터위원회 제1차 회의를 개최했다. 위원회에서는 위원장(공병훈 협성대 교수)을 포함해 당연직.위촉직 위원 등 총 12명이 참석한...\n",
      "----------------------------------------------------------------------------------------------------\n",
      "제목 : 경기도,도 빅데이터위원회 개최…올해 경기도 마이데이터 플랫폼 개시\n",
      "URL : https://cp.news.search.daum.net/p/115196941\n",
      "활용, 관리할 수 있는 ‘경기도 마이데이터 플랫폼’ 서비스를 시작한다. 경기도는 18일 수원시 경기도R&DB센터에서 2022년 빅데이터위원회 제1차 회의를 개최했다. 위원회에서는 위원장(공병훈 협성대 교수)을 포함해 당연직·위촉직 위원 등 총 12명이 참석한...\n",
      "----------------------------------------------------------------------------------------------------\n",
      "제목 : 빅데이터로 우범 지역 핀셋 관리..서초구, '예측범죄지도' 도입\n",
      "URL : http://v.media.daum.net/v/20220119093654189?f=o\n",
      "서울 서초구 제공. 재판매 및 DB 금지] (서울=연합뉴스) 고현실 기자 = 서울 서초구는 범죄발생 가능성이 높은 지역을 빅데이터로 예측해 시간대별로 집중 감시하는 '예측범죄지도(Predictive Crime Map) 시스템'을 전국 최초로 도입한다고 19일 밝혔다. 한국...\n",
      "----------------------------------------------------------------------------------------------------\n",
      "제목 : 1인 셀러부터 동네 가게 사장님까지 소상공인도 빅데이터 활용 시대\n",
      "URL : http://v.media.daum.net/v/20220117061022116?f=o\n",
      "[이코노미조선]일상까지 스며든 빅데이터\n",
      "----------------------------------------------------------------------------------------------------\n",
      "제목 : 산림청 빅데이터 등 과학기술 기반 산불 대응체계 구축\n",
      "URL : http://v.media.daum.net/v/20220119111009801?f=o\n",
      "을 발표했다. / 산림청 제공 [더팩트 | 대전=박종명 기자] 효과적인 산불 방지를 위해 올해 초대형 헬기 1대가 새로 도입되고 빅데이터 등 과학기술에 기반한 대응 체계가 구축된다. 산림청은 19일 이 같은 내용의 '2022년 K-산불방지 종합대책'을 추진한다고 밝혔다...\n",
      "----------------------------------------------------------------------------------------------------\n"
     ]
    }
   ],
   "source": [
    "pathf = '#newsColl > div.cont_divider > ul > li > div.wrap_cont'\n",
    "lisf = soup.select(pathf)\n",
    "for li in lisf:\n",
    "    print(f\"제목 : {li('a')[0].text}\")\n",
    "    print(f\"URL : {li('a')[0]['href']}\")\n",
    "    print(li('p')[0].text)\n",
    "    print(\"-\"*100)"
   ]
  },
  {
   "cell_type": "code",
   "execution_count": 107,
   "metadata": {},
   "outputs": [
    {
     "name": "stdout",
     "output_type": "stream",
     "text": [
      "[투데이 窓]빅데이터에서 미래를 읽는 통찰력\n",
      "http://v.media.daum.net/v/20220119020501044?f=o\n",
      "[<p class=\"desc\">새 강자 그룹은 IT 기반 플랫폼을 보유한 기업들이다. 플랫폼의 강점은 <b>데이터</b>다. <b>데이터</b>가 모이고 유통되는 곳이 바로 플랫폼이다. <b>데이터</b>는 21세기 원유가 됐고 바야흐로 <b>빅</b><b>데이터</b> 시대를 맞게 된 것이다. 새해 벽두, 애플은 새 진기록을 세웠다. 1월4일 사상 처음...</p>]\n",
      "----------------------------------------------------------------------------------------------------\n",
      "통화 방송 후 사흘.. 관심도 李 46 vs 尹 54 l 빅데이터랩\n",
      "http://v.media.daum.net/v/20220119141604019?f=o\n",
      "[<p class=\"desc\">그리고 지난 한 주간 온라인상 대선 관련 민심, 관심의 흐름은 어떻게 전개되고 있을까요. JTBC가 기획ㆍ개발한 <b>빅</b><b>데이터</b> 분석 플랫폼 'JTBC<b>빅</b><b>데이터</b>랩'이 실시간으로, 그리고 한 주간 누적으로 관심과 호감의 변화 양상을 추적합니다. 지난 16일 저녁 국민의힘...</p>]\n",
      "----------------------------------------------------------------------------------------------------\n",
      "악재 뜨면 이슈로 맞불.. 李 이번엔 'TV토론 카드'?ㅣ빅데이터랩\n",
      "http://v.media.daum.net/v/20220119111204914?f=o\n",
      "[<p class=\"desc\">언급량이 늘어났습니다. 'TV토론'과 'TV방송', 이 두 키워드가 어떻게 한 주간 대선판에서 작동했는지 함께 살펴보겠습니다. JTBC<b>빅</b><b>데이터</b>랩은 뉴스ㆍ커뮤니티ㆍ블로그 등 온라인상의 민심 동향을 추적해 분석하고 있습니다. 일주일 누적 <b>데이터</b>부터 보겠습니다...</p>]\n",
      "----------------------------------------------------------------------------------------------------\n",
      "[칼럼] 올해 빅데이터 정책 특화교육 디지털 전환 촉진\n",
      "https://cp.news.search.daum.net/p/115217602\n",
      "[<p class=\"desc\">경기도는 <b>데이터</b> 기반의 산업 혁신과 디지털로 전환 촉진 기반을 마련하기 위해 노력하고 있다”라며 “<b>빅</b><b>데이터</b>위원회에서 논의된 사항을 바탕으로 <b>데이터</b> 기반 혁신 사업을 성공적으로 추진하기 위해 최선을 다하겠다. 그러면서 경기도는 도정의 디지털전환과...</p>]\n",
      "----------------------------------------------------------------------------------------------------\n",
      "대전시, 빅데이터 활용 '지역사회건강지도' 구축\n",
      "http://v.media.daum.net/v/20220119101925108?f=o\n",
      "[<p class=\"desc\">흡연·음주·정신건강 등 주요지표 10개 영역 <b>데이터</b> 시각화 대전시 지역사회건강지도 <b>빅</b><b>데이터</b> 시스템 / 대전시 제공 [더팩트 | 대전=최영규 기자] 대전 시민들의 주요 건강지표 테이터를 시 홈페이지에서 한 눈에 볼 수 있게 됐다. 19일 시에 따르면 2010년부터...</p>]\n",
      "----------------------------------------------------------------------------------------------------\n",
      "경기도 빅데이터위원회 열고 ‘데이터 기반 도정혁신 방안’ 논의\n",
      "https://cp.news.search.daum.net/p/115196341\n",
      "[<p class=\"desc\">활용, 관리할 수 있는 ‘경기도 마이<b>데이터</b> 플랫폼’ 서비스를 시작한다.경기도는 1월 18일 수원시 경기도R&amp;DB센터에서 2022년 <b>빅</b><b>데이터</b>위원회 제1차 회의를 개최했다. 위원회에서는 위원장(공병훈 협성대 교수)을 포함해 당연직.위촉직 위원 등 총 12명이 참석한...</p>]\n",
      "----------------------------------------------------------------------------------------------------\n",
      "경기도,도 빅데이터위원회 개최…올해 경기도 마이데이터 플랫폼 개시\n",
      "https://cp.news.search.daum.net/p/115196941\n",
      "[<p class=\"desc\">활용, 관리할 수 있는 ‘경기도 마이<b>데이터</b> 플랫폼’ 서비스를 시작한다. 경기도는 18일 수원시 경기도R&amp;DB센터에서 2022년 <b>빅</b><b>데이터</b>위원회 제1차 회의를 개최했다. 위원회에서는 위원장(공병훈 협성대 교수)을 포함해 당연직·위촉직 위원 등 총 12명이 참석한...</p>]\n",
      "----------------------------------------------------------------------------------------------------\n",
      "빅데이터로 우범 지역 핀셋 관리..서초구, '예측범죄지도' 도입\n",
      "http://v.media.daum.net/v/20220119093654189?f=o\n",
      "[<p class=\"desc\">서울 서초구 제공. 재판매 및 DB 금지] (서울=연합뉴스) 고현실 기자 = 서울 서초구는 범죄발생 가능성이 높은 지역을 <b>빅</b><b>데이터</b>로 예측해 시간대별로 집중 감시하는 '예측범죄지도(Predictive Crime Map) 시스템'을 전국 최초로 도입한다고 19일 밝혔다. 한국...</p>]\n",
      "----------------------------------------------------------------------------------------------------\n",
      "1인 셀러부터 동네 가게 사장님까지 소상공인도 빅데이터 활용 시대\n",
      "http://v.media.daum.net/v/20220117061022116?f=o\n",
      "[<p class=\"desc\">미용실이나 노점상, 요식업 등 자영업자와 소규모 비즈니스도 뛰어들고 있다. 개인의 숙련도와 ‘감’에 의존했던 분야에서도 <b>빅</b><b>데이터</b> 혁신의 바람이 불고 있다. ‘이코노미조선’은 자영업자 등 소규모 사업체가 <b>빅</b><b>데이터</b>를 활용하기 위해 고군분투하는 현장을...</p>]\n",
      "----------------------------------------------------------------------------------------------------\n",
      "산림청 빅데이터 등 과학기술 기반 산불 대응체계 구축\n",
      "http://v.media.daum.net/v/20220119111009801?f=o\n",
      "[<p class=\"desc\">을 발표했다. / 산림청 제공 [더팩트 | 대전=박종명 기자] 효과적인 산불 방지를 위해 올해 초대형 헬기 1대가 새로 도입되고 <b>빅</b><b>데이터</b> 등 과학기술에 기반한 대응 체계가 구축된다. 산림청은 19일 이 같은 내용의 '2022년 K-산불방지 종합대책'을 추진한다고 밝혔다...</p>]\n",
      "----------------------------------------------------------------------------------------------------\n"
     ]
    }
   ],
   "source": [
    "pathTeacher = '#newsColl > div.cont_divider > ul > li'\n",
    "tags = soup.select(pathTeacher)\n",
    "tags[0]\n",
    "tags[0].select('a.tit_main')[0].text\n",
    "tags[0].select('a.tit_main')[0]['href']\n",
    "tags[0].select('p.desc')\n",
    "for tag in tags:\n",
    "    print(tag.select('a.tit_main')[0].text)\n",
    "    print(tag.select('a.tit_main')[0]['href'])\n",
    "    print(tag.select('p.desc'))\n",
    "    print(\"-\"*100)"
   ]
  },
  {
   "cell_type": "code",
   "execution_count": 110,
   "metadata": {},
   "outputs": [
    {
     "name": "stdout",
     "output_type": "stream",
     "text": [
      "[잇써보니:맥북프로 M1 Pro]스피커 6개로 공간 음향 제공..방구석 스튜디오 완성\n",
      "http://v.media.daum.net/v/20220116181126777?f=o\n",
      "[<p class=\"desc\">2021년형 <b>맥북</b>프로 16인치 모델(왼쪽)과 14인치 모델의 모습./사진 제공=애플코리아 [서울경제] 애플은 지난 2020년 고성능 고효율의 ‘M1’ 칩을 선보이며 인텔에게 충격적인 작별을 고했다. 한 발 더 나아가 지난해 10월에는 더욱 강력해진 M1칩을 탑재한 <b>맥북</b>...</p>]\n",
      "----------------------------------------------------------------------------------------------------\n",
      "M1 Max 프로세서 탑재된 맥북프로 16인치 직접 써보니\n",
      "http://v.media.daum.net/v/20220109124814598?f=o\n",
      "[<p class=\"desc\">인텔 <b>맥북</b>프로(위)와 M1 Max <b>맥북</b>프로(아래)의 단자 비교 지난해 10월 애플은 기존 인텔(Intel) 프로세서가 탑재된 <b>맥북</b>프로를 대체하는 새로운 <b>맥북</b>프로를 발표했다. 이번 <b>맥북</b>프로는 성능이 향상된 M1 프로세서가 들어간 게 주요 특징이다. 매일경제는 이 중 성능...</p>]\n",
      "----------------------------------------------------------------------------------------------------\n",
      "\"애플 MR 헤드셋, 14인치 맥북프로 충전기 쓴다\"\n",
      "http://v.media.daum.net/v/20220112083514376?f=o\n",
      "[<p class=\"desc\">작성한 TF인터내셔널증권 보고서에 따르면 애플 헤드셋의 충전기는 96와트USB-C 어댑터로, 애플의 노트북 제품군 가운데 14인치 <b>맥북</b>프로가 사용하는 어댑터와 동일 사양이다. 현재 애플이 판매하고있는 96와트 USB-C 어댑터는 14인치 <b>맥북</b>프로를 30분 동안 배터리...</p>]\n",
      "----------------------------------------------------------------------------------------------------\n",
      "애플, 신학기 프로모션..'맥북·아이패드' 할인 판매\n",
      "http://v.media.daum.net/v/20220107082548038?f=o\n",
      "[<p class=\"desc\">할 수 있다. 이번 프로모션을 통해 제품을 구매하면 20% 할인된 가격에 ‘애플케어+’에 가입할 수 있다. 할인가를 적용하면 <b>맥북</b> 에어는 116만원부터, 애플 자체 칩인 ‘M1’을 기반으로 한 <b>맥북</b> 프로는 156만원부터 구매할 수 있다. M1이 적용된 아이맥 판매가는...</p>]\n",
      "----------------------------------------------------------------------------------------------------\n",
      "애플, M1 맥스 탑재 신형 '맥북 프로' 여전히 공급 부족\n",
      "https://cp.news.search.daum.net/p/114772725\n",
      "[<p class=\"desc\">애플의 M1 맥스 탑재 신형 '<b>맥북</b> 프로'가 여전히 공급 부족을 겪고 있다고 외신이 골드먼 삭스 보고서를 인용해 5일(현지시간) 보도했다. 분석가들이 쇼핑 시즌 이후 리드 타임(배송기간)을 살펴본 결과 아이폰13 프로 모델의 리드 타임은 2021년 12월 중순 수준으로...</p>]\n",
      "----------------------------------------------------------------------------------------------------\n",
      "애플 맥북의 조상 매킨토시, 마우스로 클릭하는 시대 열다\n",
      "http://v.media.daum.net/v/20220113171403322?f=o\n",
      "[<p class=\"desc\">1984년 ‘매킨토시 128K’를 세상에 내놓은 28세 스티브 잡스. 미국 의회도서관 웹사이트 1976년 설립한 애플은 이듬해 출시한 개인용 컴퓨터 ‘애플Ⅱ’의 대성공으로 한번에 스타기업으로 떠올랐다. 이 덕분에 1979년 나스닥시장에 성공적으로 상장했고, 창업자인...</p>]\n",
      "----------------------------------------------------------------------------------------------------\n",
      "[까다로운 리뷰] M1 맥북과 M1 프로 맥스 맥북 중 뭘 사야 할까?\n",
      "https://cp.news.search.daum.net/p/113867497\n",
      "[<p class=\"desc\">안녕하세요. 이종철의 까다로운 리뷰, 오늘은 M1과 M1 맥스 <b>맥북</b> 중 무엇을 사야 하는지 알아보겠습니다. 우선 저는 M1 <b>맥북</b> 에어 출시 이후 꾸준히 <b>맥북</b> 에어를 사용 중이었는데요. M1 <b>맥북</b> 에어는 8코어 CPU, 7코어 GPU와, 8·8코어 두가지 제품이 있고요. 제가...</p>]\n",
      "----------------------------------------------------------------------------------------------------\n",
      "[리뷰] 애플 실리콘의 진가를 드러내다, 애플 맥북프로 14\n",
      "http://v.media.daum.net/v/20211209173607063?f=o\n",
      "[<p class=\"desc\">10월, 애플은 첫 애플 실리콘 ‘M1’의 고성능 버전인 ‘애플 M1 Pro(이하 M1 프로)’와 ‘애플 M1 MAX(이하 M1 맥스)’를 탑재한 <b>맥북</b> 프로 14, 16을 각각 공개했다. 새로운 <b>맥북</b> 프로 시리즈는 상단의 메뉴 역할을 하는 터치 바를 제외함과 동시에 SDXC, HDMI, 맥...</p>]\n",
      "----------------------------------------------------------------------------------------------------\n",
      "애플, 성능 향상된 M2 칩셋 탑재 신형 '맥북 에어' 출시 계획\n",
      "https://cp.news.search.daum.net/p/114635416\n",
      "[<p class=\"desc\">신형 <b>맥북</b> 에어 예상 렌더링(출처:아이드롭뉴스) 애플이 올해 성능이 향상된 신형 <b>맥북</b> 에어를 출시할 것으로 알려졌다. 2일(현지시간) 외신에 따르면 블룸버그통신 마크 거먼은 최신 파워 온 뉴스레터를 통해 \"애플이 M1칩보다 약간 더 빠른 새로운 M2 칩으로 구동...</p>]\n",
      "----------------------------------------------------------------------------------------------------\n",
      "애플 고위 임원이 꼽은 아이폰·맥북의 혁신 비결 [실리콘밸리 나우]\n",
      "http://v.media.daum.net/v/20211208060102990?f=o\n",
      "[<p class=\"desc\">이 기사는 국내 최대 해외 투자정보 플랫폼 “한경 글로벌마켓”에 게재된 기사입니다. 애플이 지난 10월 공개한 <b>맥북</b> 프로 신제품. /연합뉴스 야수(beast), 게임체인저(game changer). 애플이 지난 10월 공개한 반도체 'M1 프로', 'M1 맥스'을 지칭한 단어들이다...</p>]\n",
      "----------------------------------------------------------------------------------------------------\n"
     ]
    }
   ],
   "source": [
    "# 검색어를 입력 받은 후 해당 검색어로 검색한 결과의 다음뉴스 페이지에서\n",
    "# 검색한 결과의 제목, url, summary를 크롤링 하세요\n",
    "\n",
    "res = requests.get('https://search.daum.net/search?nil_suggest=btn&w=news&DA=SBC&q=%EB%A7%A5%EB%B6%81')\n",
    "soup = BeautifulSoup(res.text, 'html.parser')\n",
    "path = '#newsColl > div.cont_divider > ul > li'\n",
    "tags = soup.select(path)\n",
    "for tag in tags:\n",
    "    print(tag.select('a.tit_main')[0].text)\n",
    "    print(tag.select('a.tit_main')[0]['href'])\n",
    "    print(tag.select('p.desc')[0].text)\n",
    "    print(\"-\"*100)"
   ]
  },
  {
   "cell_type": "code",
   "execution_count": 115,
   "metadata": {},
   "outputs": [
    {
     "data": {
      "text/plain": [
       "<Response [200]>"
      ]
     },
     "execution_count": 115,
     "metadata": {},
     "output_type": "execute_result"
    }
   ],
   "source": [
    "url = 'https://search.daum.net/search?nil_suggest=btn&w=news&DA=SBC&q={}'\n",
    "search = input(\"검색할 단어 입력\")\n",
    "url = url.format(search)\n",
    "html = requests.get(url)\n",
    "html"
   ]
  },
  {
   "cell_type": "code",
   "execution_count": 129,
   "metadata": {},
   "outputs": [
    {
     "name": "stdout",
     "output_type": "stream",
     "text": [
      "10\n"
     ]
    },
    {
     "data": {
      "text/plain": [
       "<li> <div class=\"wrap_thumb\" id=\"news_img_0\"> <a class=\"thumb\" href=\"http://v.media.daum.net/v/20220116181126777?f=o\" onclick='smartLog(this, \"dc=NNS&amp;d=26UXPAjF86wkQOhSaa&amp;pg=1&amp;r=1&amp;p=1&amp;rc=10&amp;e1=16Fbn8iLTIqdeOvaST&amp;e3=0&amp;ext=dsid=26UXPAjF86wkQOhSaa\", event, {\"cpid\": {\"value\": \"16Fbn8iLTIqdeOvaST\"}});' target=\"_blank\"> <img alt=\"\" class=\"thumb_img\" data-size=\"80x80\" height=\"80\" onerror=\"SF.errorImage(this)\" src=\"https://search1.daumcdn.net/thumb/P200x200/?fname=https%3A%2F%2Fsearch1.kakaocdn.net%2Fargon%2F200x200_85_c%2F7k21GaXI4PP0\" width=\"80\"/> </a> </div> <div class=\"wrap_cont\"> <a class=\"tit_main fn_tit_u\" href=\"http://v.media.daum.net/v/20220116181126777?f=o\" onclick='smartLog(this, \"dc=NNS&amp;d=26UXPAjF86wkQOhSaa&amp;pg=1&amp;r=1&amp;p=4&amp;rc=10&amp;e1=16Fbn8iLTIqdeOvaST&amp;e3=0&amp;ext=dsid=26UXPAjF86wkQOhSaa\", event, {\"cpid\": {\"value\": \"16Fbn8iLTIqdeOvaST\"}});' target=\"_blank\">[잇써보니:<b>맥북</b>프로 M1 Pro]스피커 6개로 공간 음향 제공..방구석 스튜디오 완성</a> <p class=\"tit_sub f_nb\">■2021 맥북프로 M1 Pro 14인치 체험기4K급 영상 편집도 가뿐각진 모습 디자인 아쉬움</p> <p class=\"desc\">2021년형 <b>맥북</b>프로 16인치 모델(왼쪽)과 14인치 모델의 모습./사진 제공=애플코리아 [서울경제] 애플은 지난 2020년 고성능 고효율의 ‘M1’ 칩을 선보이며 인텔에게 충격적인 작별을 고했다. 한 발 더 나아가 지난해 10월에는 더욱 강력해진 M1칩을 탑재한 <b>맥북</b>...</p> <span class=\"cont_info\"> <span class=\"f_nb\">서울경제</span> <span class=\"f_nb\">2022.01.16</span> <a class=\"f_nb\" href=\"http://v.media.daum.net/v/20220116181126777\" onclick='smartLog(this, \"dc=NNS&amp;d=26UXPAjF86wkQOhSaa&amp;pg=1&amp;r=1&amp;p=3&amp;rc=10&amp;e1=16Fbn8iLTIqdeOvaST&amp;e3=0&amp;ext=dsid=26UXPAjF86wkQOhSaa\", event, {\"cpid\": {\"value\": \"16Fbn8iLTIqdeOvaST\"}});' target=\"_blank\">다음뉴스</a> </span> <span id=\"newsSQC_t1_0\" style=\"display:none;\">10301^http://v.media.daum.net/v/20220116181126777?f=o^26UXPAjF86wkQOhSaa^news^mediaArticle^%EB%A7%A5%EB%B6%81^26UXPAjF86wkQOhSaa</span> </div> </li>"
      ]
     },
     "execution_count": 129,
     "metadata": {},
     "output_type": "execute_result"
    }
   ],
   "source": [
    "soup = BeautifulSoup(html.text, 'html.parser')\n",
    "path = '#newsColl > div.cont_divider > ul > li'\n",
    "tags = soup.select(path)\n",
    "print(len(tags))  # => 뉴스 10개 가져왔나 확인 가능!\n",
    "# for tag in tags:\n",
    "#     print(tag.select('a.tit_main')[0].text)\n",
    "#     print(tag.select('a.tit_main')[0]['href'])\n",
    "#     print(tag.select('p.desc')[0].text)\n",
    "#     print(\"-\"*100)\n",
    "tags[0]"
   ]
  },
  {
   "cell_type": "code",
   "execution_count": 123,
   "metadata": {},
   "outputs": [
    {
     "name": "stdout",
     "output_type": "stream",
     "text": [
      "[잇써보니:맥북프로 M1 Pro]스피커 6개로 공간 음향 제공..방구석 스튜디오 완성\n",
      "http://v.media.daum.net/v/20220116181126777?f=o\n",
      "2021년형 맥북프로 16인치 모델(왼쪽)과 14인치 모델의 모습./사진 제공=애플코리아 [서울경제] 애플은 지난 2020년 고성능 고효율의 ‘M1’ 칩을 선보이며 인텔에게 충격적인 작별을 고했다. 한 발 더 나아가 지난해 10월에는 더욱 강력해진 M1칩을 탑재한 맥북...\n",
      "----------------------------------------------------------------------------------------------------\n",
      "M1 Max 프로세서 탑재된 맥북프로 16인치 직접 써보니\n",
      "http://v.media.daum.net/v/20220109124814598?f=o\n",
      "인텔 맥북프로(위)와 M1 Max 맥북프로(아래)의 단자 비교 지난해 10월 애플은 기존 인텔(Intel) 프로세서가 탑재된 맥북프로를 대체하는 새로운 맥북프로를 발표했다. 이번 맥북프로는 성능이 향상된 M1 프로세서가 들어간 게 주요 특징이다. 매일경제는 이 중 성능...\n",
      "----------------------------------------------------------------------------------------------------\n",
      "\"애플 MR 헤드셋, 14인치 맥북프로 충전기 쓴다\"\n",
      "http://v.media.daum.net/v/20220112083514376?f=o\n",
      "작성한 TF인터내셔널증권 보고서에 따르면 애플 헤드셋의 충전기는 96와트USB-C 어댑터로, 애플의 노트북 제품군 가운데 14인치 맥북프로가 사용하는 어댑터와 동일 사양이다. 현재 애플이 판매하고있는 96와트 USB-C 어댑터는 14인치 맥북프로를 30분 동안 배터리...\n",
      "----------------------------------------------------------------------------------------------------\n",
      "애플, 신학기 프로모션..'맥북·아이패드' 할인 판매\n",
      "http://v.media.daum.net/v/20220107082548038?f=o\n",
      "할 수 있다. 이번 프로모션을 통해 제품을 구매하면 20% 할인된 가격에 ‘애플케어+’에 가입할 수 있다. 할인가를 적용하면 맥북 에어는 116만원부터, 애플 자체 칩인 ‘M1’을 기반으로 한 맥북 프로는 156만원부터 구매할 수 있다. M1이 적용된 아이맥 판매가는...\n",
      "----------------------------------------------------------------------------------------------------\n",
      "애플, M1 맥스 탑재 신형 '맥북 프로' 여전히 공급 부족\n",
      "https://cp.news.search.daum.net/p/114772725\n",
      "애플의 M1 맥스 탑재 신형 '맥북 프로'가 여전히 공급 부족을 겪고 있다고 외신이 골드먼 삭스 보고서를 인용해 5일(현지시간) 보도했다. 분석가들이 쇼핑 시즌 이후 리드 타임(배송기간)을 살펴본 결과 아이폰13 프로 모델의 리드 타임은 2021년 12월 중순 수준으로...\n",
      "----------------------------------------------------------------------------------------------------\n",
      "애플 맥북의 조상 매킨토시, 마우스로 클릭하는 시대 열다\n",
      "http://v.media.daum.net/v/20220113171403322?f=o\n",
      "1984년 ‘매킨토시 128K’를 세상에 내놓은 28세 스티브 잡스. 미국 의회도서관 웹사이트 1976년 설립한 애플은 이듬해 출시한 개인용 컴퓨터 ‘애플Ⅱ’의 대성공으로 한번에 스타기업으로 떠올랐다. 이 덕분에 1979년 나스닥시장에 성공적으로 상장했고, 창업자인...\n",
      "----------------------------------------------------------------------------------------------------\n",
      "[까다로운 리뷰] M1 맥북과 M1 프로 맥스 맥북 중 뭘 사야 할까?\n",
      "https://cp.news.search.daum.net/p/113867497\n",
      "안녕하세요. 이종철의 까다로운 리뷰, 오늘은 M1과 M1 맥스 맥북 중 무엇을 사야 하는지 알아보겠습니다. 우선 저는 M1 맥북 에어 출시 이후 꾸준히 맥북 에어를 사용 중이었는데요. M1 맥북 에어는 8코어 CPU, 7코어 GPU와, 8·8코어 두가지 제품이 있고요. 제가...\n",
      "----------------------------------------------------------------------------------------------------\n",
      "[리뷰] 애플 실리콘의 진가를 드러내다, 애플 맥북프로 14\n",
      "http://v.media.daum.net/v/20211209173607063?f=o\n",
      "10월, 애플은 첫 애플 실리콘 ‘M1’의 고성능 버전인 ‘애플 M1 Pro(이하 M1 프로)’와 ‘애플 M1 MAX(이하 M1 맥스)’를 탑재한 맥북 프로 14, 16을 각각 공개했다. 새로운 맥북 프로 시리즈는 상단의 메뉴 역할을 하는 터치 바를 제외함과 동시에 SDXC, HDMI, 맥...\n",
      "----------------------------------------------------------------------------------------------------\n",
      "애플, 성능 향상된 M2 칩셋 탑재 신형 '맥북 에어' 출시 계획\n",
      "https://cp.news.search.daum.net/p/114635416\n",
      "신형 맥북 에어 예상 렌더링(출처:아이드롭뉴스) 애플이 올해 성능이 향상된 신형 맥북 에어를 출시할 것으로 알려졌다. 2일(현지시간) 외신에 따르면 블룸버그통신 마크 거먼은 최신 파워 온 뉴스레터를 통해 \"애플이 M1칩보다 약간 더 빠른 새로운 M2 칩으로 구동...\n",
      "----------------------------------------------------------------------------------------------------\n",
      "애플 고위 임원이 꼽은 아이폰·맥북의 혁신 비결 [실리콘밸리 나우]\n",
      "http://v.media.daum.net/v/20211208060102990?f=o\n",
      "이 기사는 국내 최대 해외 투자정보 플랫폼 “한경 글로벌마켓”에 게재된 기사입니다. 애플이 지난 10월 공개한 맥북 프로 신제품. /연합뉴스 야수(beast), 게임체인저(game changer). 애플이 지난 10월 공개한 반도체 'M1 프로', 'M1 맥스'을 지칭한 단어들이다...\n",
      "----------------------------------------------------------------------------------------------------\n"
     ]
    }
   ],
   "source": [
    "# 위의 과정을 함수에 담아보자\n",
    "def search_daum_news(search):\n",
    "    url = 'https://search.daum.net/search?nil_suggest=btn&w=news&DA=SBC&q={}'\n",
    "    url = url.format(search)\n",
    "    html = requests.get(url)\n",
    "    soup = BeautifulSoup(html.text, 'html.parser')\n",
    "    path = '#newsColl > div.cont_divider > ul > li'\n",
    "    tags = soup.select(path)\n",
    "    for tag in tags:\n",
    "        print(tag.select('a.tit_main')[0].text)\n",
    "        print(tag.select('a.tit_main')[0]['href'])\n",
    "        print(tag.select('p.desc')[0].text)\n",
    "        print(\"-\"*100)\n",
    "\n",
    "search_daum_news('맥북')"
   ]
  },
  {
   "cell_type": "code",
   "execution_count": 145,
   "metadata": {},
   "outputs": [
    {
     "name": "stdout",
     "output_type": "stream",
     "text": [
      "[잇써보니:맥북프로 M1 Pro]스피커 6개로 공간 음향 제공..방구석 스튜디오 완성\n",
      "http://v.media.daum.net/v/20220116181126777?f=o\n",
      "2021년형 맥북프로 16인치 모델(왼쪽)과 14인치 모델의 모습./사진 제공=애플코리아 [서울경제] 애플은 지난 2020년 고성능 고효율의 ‘M1’ 칩을 선보이며 인텔에게 충격적인 작별을 고했다. 한 발 더 나아가 지난해 10월에는 더욱 강력해진 M1칩을 탑재한 맥북...\n",
      "서울경제\n",
      "2022.01.16\n",
      "----------------------------------------------------------------------------------------------------\n",
      "M1 Max 프로세서 탑재된 맥북프로 16인치 직접 써보니\n",
      "http://v.media.daum.net/v/20220109124814598?f=o\n",
      "인텔 맥북프로(위)와 M1 Max 맥북프로(아래)의 단자 비교 지난해 10월 애플은 기존 인텔(Intel) 프로세서가 탑재된 맥북프로를 대체하는 새로운 맥북프로를 발표했다. 이번 맥북프로는 성능이 향상된 M1 프로세서가 들어간 게 주요 특징이다. 매일경제는 이 중 성능...\n",
      "매일경제\n",
      "2022.01.09\n",
      "----------------------------------------------------------------------------------------------------\n",
      "\"애플 MR 헤드셋, 14인치 맥북프로 충전기 쓴다\"\n",
      "http://v.media.daum.net/v/20220112083514376?f=o\n",
      "작성한 TF인터내셔널증권 보고서에 따르면 애플 헤드셋의 충전기는 96와트USB-C 어댑터로, 애플의 노트북 제품군 가운데 14인치 맥북프로가 사용하는 어댑터와 동일 사양이다. 현재 애플이 판매하고있는 96와트 USB-C 어댑터는 14인치 맥북프로를 30분 동안 배터리...\n",
      "지디넷코리아\n",
      "2022.01.12\n",
      "----------------------------------------------------------------------------------------------------\n",
      "애플, 신학기 프로모션..'맥북·아이패드' 할인 판매\n",
      "http://v.media.daum.net/v/20220107082548038?f=o\n",
      "할 수 있다. 이번 프로모션을 통해 제품을 구매하면 20% 할인된 가격에 ‘애플케어+’에 가입할 수 있다. 할인가를 적용하면 맥북 에어는 116만원부터, 애플 자체 칩인 ‘M1’을 기반으로 한 맥북 프로는 156만원부터 구매할 수 있다. M1이 적용된 아이맥 판매가는...\n",
      "데일리안\n",
      "2022.01.07\n",
      "----------------------------------------------------------------------------------------------------\n",
      "애플, M1 맥스 탑재 신형 '맥북 프로' 여전히 공급 부족\n",
      "https://cp.news.search.daum.net/p/114772725\n",
      "애플의 M1 맥스 탑재 신형 '맥북 프로'가 여전히 공급 부족을 겪고 있다고 외신이 골드먼 삭스 보고서를 인용해 5일(현지시간) 보도했다. 분석가들이 쇼핑 시즌 이후 리드 타임(배송기간)을 살펴본 결과 아이폰13 프로 모델의 리드 타임은 2021년 12월 중순 수준으로...\n",
      "케이벤치\n",
      "2022.01.06\n",
      "----------------------------------------------------------------------------------------------------\n",
      "애플 맥북의 조상 매킨토시, 마우스로 클릭하는 시대 열다\n",
      "http://v.media.daum.net/v/20220113171403322?f=o\n",
      "1984년 ‘매킨토시 128K’를 세상에 내놓은 28세 스티브 잡스. 미국 의회도서관 웹사이트 1976년 설립한 애플은 이듬해 출시한 개인용 컴퓨터 ‘애플Ⅱ’의 대성공으로 한번에 스타기업으로 떠올랐다. 이 덕분에 1979년 나스닥시장에 성공적으로 상장했고, 창업자인...\n",
      "한국경제\n",
      "2022.01.13\n",
      "----------------------------------------------------------------------------------------------------\n",
      "[까다로운 리뷰] M1 맥북과 M1 프로 맥스 맥북 중 뭘 사야 할까?\n",
      "https://cp.news.search.daum.net/p/113867497\n",
      "안녕하세요. 이종철의 까다로운 리뷰, 오늘은 M1과 M1 맥스 맥북 중 무엇을 사야 하는지 알아보겠습니다. 우선 저는 M1 맥북 에어 출시 이후 꾸준히 맥북 에어를 사용 중이었는데요. M1 맥북 에어는 8코어 CPU, 7코어 GPU와, 8·8코어 두가지 제품이 있고요. 제가...\n",
      "바이라인네트워크\n",
      "2021.12.13\n",
      "----------------------------------------------------------------------------------------------------\n",
      "[리뷰] 애플 실리콘의 진가를 드러내다, 애플 맥북프로 14\n",
      "http://v.media.daum.net/v/20211209173607063?f=o\n",
      "10월, 애플은 첫 애플 실리콘 ‘M1’의 고성능 버전인 ‘애플 M1 Pro(이하 M1 프로)’와 ‘애플 M1 MAX(이하 M1 맥스)’를 탑재한 맥북 프로 14, 16을 각각 공개했다. 새로운 맥북 프로 시리즈는 상단의 메뉴 역할을 하는 터치 바를 제외함과 동시에 SDXC, HDMI, 맥...\n",
      "IT동아\n",
      "2021.12.09\n",
      "----------------------------------------------------------------------------------------------------\n",
      "애플, 성능 향상된 M2 칩셋 탑재 신형 '맥북 에어' 출시 계획\n",
      "https://cp.news.search.daum.net/p/114635416\n",
      "신형 맥북 에어 예상 렌더링(출처:아이드롭뉴스) 애플이 올해 성능이 향상된 신형 맥북 에어를 출시할 것으로 알려졌다. 2일(현지시간) 외신에 따르면 블룸버그통신 마크 거먼은 최신 파워 온 뉴스레터를 통해 \"애플이 M1칩보다 약간 더 빠른 새로운 M2 칩으로 구동...\n",
      "케이벤치\n",
      "2022.01.03\n",
      "----------------------------------------------------------------------------------------------------\n",
      "애플 고위 임원이 꼽은 아이폰·맥북의 혁신 비결 [실리콘밸리 나우]\n",
      "http://v.media.daum.net/v/20211208060102990?f=o\n",
      "이 기사는 국내 최대 해외 투자정보 플랫폼 “한경 글로벌마켓”에 게재된 기사입니다. 애플이 지난 10월 공개한 맥북 프로 신제품. /연합뉴스 야수(beast), 게임체인저(game changer). 애플이 지난 10월 공개한 반도체 'M1 프로', 'M1 맥스'을 지칭한 단어들이다...\n",
      "한국경제\n",
      "2021.12.08\n",
      "----------------------------------------------------------------------------------------------------\n",
      "[2021결산]올해를 빛낸 IT제품: 맥북 프로, Z 플립3, 아이오닉 5\n",
      "https://cp.news.search.daum.net/p/114335548\n",
      "건 결국 어떤 기술이 이전의 것보다 더 사람의 마음에 와닿는가의 문제다. 그런 관점에서 애플의 M1 pro와 max를 장착한 맥북 프로, 삼성의 갤럭시 Z 플립3, 현대의 IONIQ 5, meta(구 페이스북) 등을 주목하여 바라보았다. 1. 신세계를 열다, 애플 애플은 좀 얄밉다...\n",
      "딴지일보\n",
      "2021.12.24\n",
      "----------------------------------------------------------------------------------------------------\n",
      "[써봤다] 프로를 위한, 프로에 의한 'M1 맥북 프로'\n",
      "https://cp.news.search.daum.net/p/113827111\n",
      "애플 신제품은 매년 나온다. 아무리 애플팬이라도 매번 새 제품을 사긴 어렵다. '맥북 프로'처럼 고가의 제품이라면 더 그렇다. 하지만 중요한 변곡점이 왔을 땐 '기변욕'을 참기 어렵다. 애플의 자체 칩셋 'M1'을 달고 나온 이번 신형 맥북 프로도 그랬다. 야수...\n",
      "테크M\n",
      "2021.12.11\n",
      "----------------------------------------------------------------------------------------------------\n",
      "가장 강력한 맥북 프로\n",
      "http://v.media.daum.net/v/20211111155111419?f=o\n",
      "새로운 맥북 프로에서 주목할 것은 칩이다. 강력한 M1 프로와 더욱 강력한 M1 맥스 두 종류의 칩은 역대 최고 성능의 맥북 프로를 완성시켰다. M1 프로와 M1 맥스 칩으로 노트북의 판도를 바꾼 맥북 프로. 주목할 점만 짚는다. ▷M1 프로와 M1 맥스 M1 프로의 기반인...\n",
      "시티라이프\n",
      "2021.11.11\n",
      "----------------------------------------------------------------------------------------------------\n",
      "호치킨, 윙봉 먹고 맥북 받자\n",
      "http://v.media.daum.net/v/20211215110306460?f=o\n",
      "지난 8일 출시한 윙봉 메뉴 중 한가지를 구매하면 꽝이 없는 100% 당첨 스크래치 쿠폰을 제공한다. 스크래치 쿠폰 안에는 1등 맥북프로 14형 (1명), 2등 애플워치 SE (3명), 3등 스타벅스 상품권 (50명), 4등 감자 토핑 교환권이다. 이번 이벤트는 내년 2022년 1...\n",
      "머니S\n",
      "2021.12.15\n",
      "----------------------------------------------------------------------------------------------------\n",
      "한 달간 책 2694권 대출?… 다독왕 이벤트로 '맥북' 챙긴 대학생, 딱 걸렸다\n",
      "https://cp.news.search.daum.net/p/114268339\n",
      "대학 도서관에서 진행한 다독왕 이벤트에 한 달간 2694권의 책을 읽었다는 학생이 등장했다. 이 학생은 1등으로 선정돼 경품인 애플 '맥북 에어'를 받게 됐다. 이후 책 권수가 지나치게 많다는 의혹이 제기되자 해당 대학 도서관 측은 부정 참여자를 상대로 상품을...\n",
      "위키트리\n",
      "2021.12.22\n",
      "----------------------------------------------------------------------------------------------------\n",
      "애플, 보급형 '맥북 프로' 새 모델 선보이나\n",
      "https://cp.news.search.daum.net/p/113609396\n",
      "애플이 신규 보급형 맥북 프로를 출시할 것이라는 주장이 제기됐다. 5일(현지시간) 마크 가먼 <블룸버그> 기자는 '파워 온' 뉴스레터 최신호에서 \"애플이 내년 5개의 맥 라인업을 출시할 것\"이라고 밝혔다. (사진=애플코리아 홈페이지 갈무리) <블룸버그>가 밝힌...\n",
      "블로터닷넷\n",
      "2021.12.06\n",
      "----------------------------------------------------------------------------------------------------\n",
      "'정경미♥' 윤형빈 붕어빵 딸, 맥북 쓰는 2살..\"하루의 시작이죠\"\n",
      "http://v.media.daum.net/v/20211215102841950?f=o\n",
      "확인하는게 하루의 시작이죠! 모두 좋은 하루 되세요:)\"라는 글과 사진을 게재했다. 공개된 사진 속에는 앙증맞은 자태를 자랑하며 맥북을 뚫어져라 바라보고 있는 정경미 딸의 모습이 담겼다. 맥북에는 정경미가 진행하는 라디오 '두시 만세' 스티커와, 아들 '윤준...\n",
      "엑스포츠뉴스\n",
      "2021.12.15\n",
      "----------------------------------------------------------------------------------------------------\n",
      "차기 맥북 에어, 어떻게 나올까\n",
      "http://v.media.daum.net/v/20211021140824470?f=o\n",
      "(지디넷코리아=이정현 미디어연구소)차세대 맥북 에어에는 신형 맥북 프로에 적용된 노치가 그대로 적용될 전망이다. 맥북 프로처럼 페이스ID 없이 카메라와 주변광 센서와 표시등만 탑재될 것으로 보인다. IT매체 맥루머스가 20일(현지시간) 내년에 출시될 차기...\n",
      "지디넷코리아\n",
      "2021.10.21\n",
      "----------------------------------------------------------------------------------------------------\n",
      "[리뷰] 압도적 화질과 성능 ‘애플 맥북 프로 16’\n",
      "https://cp.news.search.daum.net/p/114063302\n",
      "또 하나는 이번 신형 맥북 프로가 평범한 일반 사용자가 쓰기에는 다소 과분한 제품이라는 것이다. 맥에 대한 사용 경험이 충분하고, 이미 M1 기반 맥북 에어 정도로는 성에 안 차는 사용자에게 추천할만하지만, 단지 화질이나 성능에 혹해 구매하기에는 가성비도...\n",
      "IT조선\n",
      "2021.12.17\n",
      "----------------------------------------------------------------------------------------------------\n",
      "애플, 맥북에 OLED 탑재 만지작.. 삼성·LG, 기술 경쟁 치열\n",
      "http://v.media.daum.net/v/20211105060105254?f=o\n",
      "애플이 지난달 공개한 맥북프로 14·16인치 모델. 이 제품에는 처음으로 미니LED가 탑재됐다. /애플코리아 제공 애플이 노트북 제품인 맥북에 유기발광다이오드(OLED) 패널을 탑재하기 위한 검토를 시작했다. 삼성전자를 포함한 레노버, HP, 델, 샤오미 등 글로벌...\n",
      "조선비즈\n",
      "2021.11.05\n",
      "----------------------------------------------------------------------------------------------------\n"
     ]
    }
   ],
   "source": [
    "# 키워드, 페이지 입력 다음 뉴스페이지에서 제목, URL, summary, 언론사, 시간을 페이지만큼 크롤링해서 출력하는 함수\n",
    "def search_daum_news_per_page(search, page):\n",
    "    for p in range(1,page+1):\n",
    "        url = 'https://search.daum.net/search?nil_suggest=btn&w=news&DA=PGD&q={}&p={}'\n",
    "        url = url.format(search, p)\n",
    "        res = requests.get(url)\n",
    "        soup = BeautifulSoup(res.text, 'html.parser')\n",
    "        path = '#newsColl > div.cont_divider > ul > li'\n",
    "        tags = soup.select(path)\n",
    "        for tag in tags:\n",
    "            print(tag.select('a.tit_main')[0].text)\n",
    "            print(tag.select('a.tit_main')[0]['href'])\n",
    "            print(tag.select('p.desc')[0].text)\n",
    "            print(tag.select('span.f_nb')[0].text)\n",
    "            print(tag.select('span.f_nb')[1].text)\n",
    "            print(\"-\"*100)\n",
    "\n",
    "search_daum_news_per_page('맥북',2)\n",
    "    \n",
    "    \n",
    "    \n",
    "    #    '#newsColl > div.paging_comm > span > span:nth-child(2) > a:nth-child({})'.format(p)\n",
    "    "
   ]
  },
  {
   "cell_type": "code",
   "execution_count": 150,
   "metadata": {},
   "outputs": [],
   "source": [
    "html = \"\"\"\n",
    "<html>\n",
    "<head>\n",
    "    <title>The Dormouse's story</title>\n",
    "</head>\n",
    "<body>\n",
    "    <h1>this is h1 area</h1>\n",
    "    <h2>this is h2 area</h2>\n",
    "    <p class=\"title\">\n",
    "        <b>The Dormouse's story</b>\n",
    "    </p>\n",
    "    <p class=\"story\">\n",
    "        Once upon a time there were three little sisters\n",
    "        <a href=\"http://example.com/elsie\" class=\"sister\" id=\"link1\">Elsie</a>\n",
    "        <a href=\"http://example.com/lacie\" class=\"sister\" id=\"link2\">Lacie</a>\n",
    "        <a data-io=\"link3\" href=\"http://example.com/tillie\" class=\"brother\" id=\"link3\">Tillie</a>\n",
    "        <b> \n",
    "            test\n",
    "            <a href=\"http://example.com/test\" class=\"brother\" id=\"link4\">TEST</a>\n",
    "        </b>\n",
    "\n",
    "    </p>\n",
    "    <p class=\"story\">story...</p>\n",
    "</body>\n",
    "</html>\n",
    "\"\"\""
   ]
  },
  {
   "cell_type": "code",
   "execution_count": 214,
   "metadata": {},
   "outputs": [
    {
     "data": {
      "text/plain": [
       "\n",
       "<html>\n",
       "<head>\n",
       "<title>The Dormouse's story</title>\n",
       "</head>\n",
       "<body>\n",
       "<h1>this is h1 area</h1>\n",
       "<h2>this is h2 area</h2>\n",
       "<p class=\"title\">\n",
       "<b>The Dormouse's story</b>\n",
       "</p>\n",
       "<p class=\"story\">\n",
       "        Once upon a time there were three little sisters\n",
       "        <a class=\"sister\" href=\"http://example.com/elsie\" id=\"link1\">Elsie</a>\n",
       "<a class=\"sister\" href=\"http://example.com/lacie\" id=\"link2\">Lacie</a>\n",
       "<a class=\"brother\" data-io=\"link3\" href=\"http://example.com/tillie\" id=\"link3\">Tillie</a>\n",
       "<b> \n",
       "            test\n",
       "            <a class=\"brother\" href=\"http://example.com/test\" id=\"link4\">TEST</a>\n",
       "</b>\n",
       "</p>\n",
       "<p class=\"story\">story...</p>\n",
       "</body>\n",
       "</html>"
      ]
     },
     "execution_count": 214,
     "metadata": {},
     "output_type": "execute_result"
    }
   ],
   "source": [
    "soup = BeautifulSoup(html, 'html.parser')\n",
    "soup"
   ]
  },
  {
   "cell_type": "code",
   "execution_count": 222,
   "metadata": {},
   "outputs": [
    {
     "name": "stdout",
     "output_type": "stream",
     "text": [
      "The Dormouse's story\n",
      "Elsie\n",
      "http://example.com/lacie\n",
      "story...\n"
     ]
    },
    {
     "data": {
      "text/plain": [
       "<b> \n",
       "            test\n",
       "            <a class=\"brother\" href=\"http://example.com/test\" id=\"link4\">TEST</a>\n",
       "</b>"
      ]
     },
     "execution_count": 222,
     "metadata": {},
     "output_type": "execute_result"
    }
   ],
   "source": [
    "print(soup.select('p.title')[0].select('b')[0].text)\n",
    "# soup.select('p.title > b')[0].text 라고 해도 됨.\n",
    "print(soup.select('a.sister')[0].text)\n",
    "print(soup.select('a.sister')[1]['href'])\n",
    "print(soup.select('p.story')[1].text)\n",
    "soup.select('b')[1]"
   ]
  }
 ],
 "metadata": {
  "interpreter": {
   "hash": "47e981e3ce92cc38a76b75838fce2c8c5d6bdd16f626c3fb6391f5ba571928ac"
  },
  "kernelspec": {
   "display_name": "Python 3.10.1 64-bit (system)",
   "language": "python",
   "name": "python3"
  },
  "language_info": {
   "codemirror_mode": {
    "name": "ipython",
    "version": 3
   },
   "file_extension": ".py",
   "mimetype": "text/x-python",
   "name": "python",
   "nbconvert_exporter": "python",
   "pygments_lexer": "ipython3",
   "version": "3.10.1"
  },
  "orig_nbformat": 4
 },
 "nbformat": 4,
 "nbformat_minor": 2
}
