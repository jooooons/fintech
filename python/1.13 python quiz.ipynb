{
 "cells": [
  {
   "cell_type": "code",
   "execution_count": null,
   "metadata": {},
   "outputs": [
    {
     "name": "stdout",
     "output_type": "stream",
     "text": [
      "38,172,894,712\n"
     ]
    }
   ],
   "source": [
    "num = int(input(\"\"))\n",
    "if (num / 1000000) < 1 :\n",
    "    print(\"7자리 이상 입력하세요\")\n",
    "else : print(\"{:0,d}\".format(num))"
   ]
  },
  {
   "cell_type": "code",
   "execution_count": null,
   "metadata": {},
   "outputs": [
    {
     "name": "stdout",
     "output_type": "stream",
     "text": [
      "123,456,778\n"
     ]
    }
   ],
   "source": [
    "num = input()\n",
    "num = num[::-1]\n",
    "ret = ''\n",
    "\n",
    "for i, c in enumerate(num):\n",
    "    i += 1\n",
    "    if (i%3 == 0) & (i != len(num)):\n",
    "        ret += c + ','\n",
    "    else : \n",
    "        ret += c\n",
    "ret = ret[::-1]\n",
    "print(ret)"
   ]
  },
  {
   "cell_type": "code",
   "execution_count": null,
   "metadata": {},
   "outputs": [],
   "source": [
    "data = open('mydata.txt', 'r', encoding=\"UTF-8-sig\")\n",
    "text = data.read()\n",
    "print(text)\n",
    "data_set = set()\n",
    "for i in text:\n",
    "    data_set.add(i)\n",
    "data_set = sorted(list(data_set))\n",
    "for i in data_set:\n",
    "    print(f\"{i} -> {text.count(i)}\")\n",
    "data.close()\n"
   ]
  },
  {
   "cell_type": "code",
   "execution_count": 14,
   "metadata": {},
   "outputs": [
    {
     "name": "stdout",
     "output_type": "stream",
     "text": [
      "' ' 등장횟수 : 3\n",
      "'나' 등장횟수 : 2\n",
      "'라' 등장횟수 : 2\n",
      "'\n",
      "' 등장횟수 : 2\n",
      "'우' 등장횟수 : 1\n",
      "'리' 등장횟수 : 1\n",
      "'좋' 등장횟수 : 1\n",
      "'은' 등장횟수 : 1\n",
      "'대' 등장횟수 : 1\n",
      "'한' 등장횟수 : 1\n",
      "'독' 등장횟수 : 1\n",
      "'립' 등장횟수 : 1\n",
      "'만' 등장횟수 : 1\n",
      "'세' 등장횟수 : 1\n"
     ]
    }
   ],
   "source": [
    "with open('mydata.txt', 'r', encoding=\"UTF-8-sig\") as f:\n",
    "    text = f.read()\n",
    "\n",
    "char = {}\n",
    "\n",
    "for c in text :\n",
    "    if c in char:\n",
    "        char[c] += 1\n",
    "    else :\n",
    "        char[c] =1\n",
    "char = sorted(char.items(), key=lambda x : x[1], reverse=True)\n",
    "\n",
    "for i, j in char[:20]:\n",
    "    print(\"'{}' 등장횟수 : {}\".format(i,j))\n",
    "f.close()"
   ]
  }
 ],
 "metadata": {
  "interpreter": {
   "hash": "47e981e3ce92cc38a76b75838fce2c8c5d6bdd16f626c3fb6391f5ba571928ac"
  },
  "kernelspec": {
   "display_name": "Python 3.10.1 64-bit (system)",
   "language": "python",
   "name": "python3"
  },
  "language_info": {
   "codemirror_mode": {
    "name": "ipython",
    "version": 3
   },
   "file_extension": ".py",
   "mimetype": "text/x-python",
   "name": "python",
   "nbconvert_exporter": "python",
   "pygments_lexer": "ipython3",
   "version": "3.10.1"
  },
  "orig_nbformat": 4
 },
 "nbformat": 4,
 "nbformat_minor": 2
}
